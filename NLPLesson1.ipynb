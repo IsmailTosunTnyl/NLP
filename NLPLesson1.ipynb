{
  "nbformat": 4,
  "nbformat_minor": 0,
  "metadata": {
    "colab": {
      "provenance": [],
      "authorship_tag": "ABX9TyM7T/JQq9e874lU1w1jYTJL"
    },
    "kernelspec": {
      "name": "python3",
      "display_name": "Python 3"
    },
    "language_info": {
      "name": "python"
    }
  },
  "cells": [
    {
      "cell_type": "code",
      "execution_count": 1,
      "metadata": {
        "colab": {
          "base_uri": "https://localhost:8080/"
        },
        "id": "cVFLhem9rEza",
        "outputId": "28bce32d-58ff-42ab-fcbd-ec686e088b93"
      },
      "outputs": [
        {
          "output_type": "stream",
          "name": "stdout",
          "text": [
            "7\n",
            "5\n",
            "Hello World\n"
          ]
        }
      ],
      "source": [
        "x=2\n",
        "y=5\n",
        "txt='Hello World'\n",
        "\n",
        "print(x+y)\n",
        "print(x+3)\n",
        "print(txt)"
      ]
    },
    {
      "cell_type": "code",
      "source": [
        "x=y=1\n",
        "print(x,y)"
      ],
      "metadata": {
        "colab": {
          "base_uri": "https://localhost:8080/"
        },
        "id": "ORsLqTzdrWTQ",
        "outputId": "13a9b57e-7d8e-4cfe-b0b8-1682a72b8770"
      },
      "execution_count": 2,
      "outputs": [
        {
          "output_type": "stream",
          "name": "stdout",
          "text": [
            "1 1\n"
          ]
        }
      ]
    },
    {
      "cell_type": "code",
      "source": [
        "2+3"
      ],
      "metadata": {
        "colab": {
          "base_uri": "https://localhost:8080/"
        },
        "id": "mK5_hibHrYnG",
        "outputId": "1cc6d45f-0893-4fe2-ef83-b2f1bbb320a9"
      },
      "execution_count": 3,
      "outputs": [
        {
          "output_type": "execute_result",
          "data": {
            "text/plain": [
              "5"
            ]
          },
          "metadata": {},
          "execution_count": 3
        }
      ]
    },
    {
      "cell_type": "code",
      "source": [
        "5-1"
      ],
      "metadata": {
        "colab": {
          "base_uri": "https://localhost:8080/"
        },
        "id": "R37ujC0urmCY",
        "outputId": "6c04c5fc-7e50-43c1-f44b-5b3f08cc43ee"
      },
      "execution_count": 4,
      "outputs": [
        {
          "output_type": "execute_result",
          "data": {
            "text/plain": [
              "4"
            ]
          },
          "metadata": {},
          "execution_count": 4
        }
      ]
    },
    {
      "cell_type": "code",
      "source": [
        "21%5"
      ],
      "metadata": {
        "colab": {
          "base_uri": "https://localhost:8080/"
        },
        "id": "pM3FMPHfrbN_",
        "outputId": "109e312f-9e36-423b-e3ba-0410e092b8ac"
      },
      "execution_count": 5,
      "outputs": [
        {
          "output_type": "execute_result",
          "data": {
            "text/plain": [
              "1"
            ]
          },
          "metadata": {},
          "execution_count": 5
        }
      ]
    },
    {
      "cell_type": "code",
      "source": [
        "number=1"
      ],
      "metadata": {
        "id": "vwBWSqo0ruJa"
      },
      "execution_count": 6,
      "outputs": []
    },
    {
      "cell_type": "code",
      "source": [
        "number==1"
      ],
      "metadata": {
        "colab": {
          "base_uri": "https://localhost:8080/"
        },
        "id": "q2pJhvnJroZ-",
        "outputId": "a9b4702f-4bb1-4dd3-87a2-5180f233f320"
      },
      "execution_count": 7,
      "outputs": [
        {
          "output_type": "execute_result",
          "data": {
            "text/plain": [
              "True"
            ]
          },
          "metadata": {},
          "execution_count": 7
        }
      ]
    },
    {
      "cell_type": "code",
      "source": [
        "number>1"
      ],
      "metadata": {
        "colab": {
          "base_uri": "https://localhost:8080/"
        },
        "id": "PYmAoUVNr3jj",
        "outputId": "5c2c2329-b59f-49c4-9c8f-6dbb595e25e4"
      },
      "execution_count": 8,
      "outputs": [
        {
          "output_type": "execute_result",
          "data": {
            "text/plain": [
              "False"
            ]
          },
          "metadata": {},
          "execution_count": 8
        }
      ]
    },
    {
      "cell_type": "code",
      "source": [
        "(number<3) and (number>0)"
      ],
      "metadata": {
        "colab": {
          "base_uri": "https://localhost:8080/"
        },
        "id": "a49vLlVsr8v4",
        "outputId": "8ae0188e-6cc1-49d3-c901-97fbaa591ea3"
      },
      "execution_count": 9,
      "outputs": [
        {
          "output_type": "execute_result",
          "data": {
            "text/plain": [
              "True"
            ]
          },
          "metadata": {},
          "execution_count": 9
        }
      ]
    },
    {
      "cell_type": "code",
      "source": [
        "print(round(4.548787))\n",
        "print(round(4.54879, 2))\n",
        "print(round(4.448787))"
      ],
      "metadata": {
        "colab": {
          "base_uri": "https://localhost:8080/"
        },
        "id": "31B5xVvUsBMh",
        "outputId": "322a4eec-cb4f-48d9-a8c2-9c64a1560d91"
      },
      "execution_count": 10,
      "outputs": [
        {
          "output_type": "stream",
          "name": "stdout",
          "text": [
            "5\n",
            "4.55\n",
            "4\n"
          ]
        }
      ]
    },
    {
      "cell_type": "code",
      "source": [
        "def process(x, y):\n",
        "  return (x + y) - (x - y)\n",
        "\n",
        "print(process(1,2))"
      ],
      "metadata": {
        "colab": {
          "base_uri": "https://localhost:8080/"
        },
        "id": "uVFuPTY3sH98",
        "outputId": "ffe38f91-2901-4533-830e-12e995311138"
      },
      "execution_count": 12,
      "outputs": [
        {
          "output_type": "stream",
          "name": "stdout",
          "text": [
            "4\n"
          ]
        }
      ]
    },
    {
      "cell_type": "code",
      "source": [
        "data=input(\"Enter Information...\") #kullanıcı veri girişi işlemi"
      ],
      "metadata": {
        "colab": {
          "base_uri": "https://localhost:8080/"
        },
        "id": "2HIRSFqGsj1h",
        "outputId": "4a2ec493-5b83-42e1-917f-06d6defc4541"
      },
      "execution_count": 13,
      "outputs": [
        {
          "name": "stdout",
          "output_type": "stream",
          "text": [
            "Enter Information...Computer\n"
          ]
        }
      ]
    },
    {
      "cell_type": "code",
      "source": [
        "type(data) # değişkeninin türüne erişim..\n",
        "type(12)"
      ],
      "metadata": {
        "colab": {
          "base_uri": "https://localhost:8080/"
        },
        "id": "1PkbIaUxt2V1",
        "outputId": "3163da58-bd2d-4225-83f1-91a38caffc97"
      },
      "execution_count": 15,
      "outputs": [
        {
          "output_type": "execute_result",
          "data": {
            "text/plain": [
              "int"
            ]
          },
          "metadata": {},
          "execution_count": 15
        }
      ]
    },
    {
      "cell_type": "code",
      "source": [
        "print ('''Manisa Celal Bayar University\n",
        "Faculty of Engineering\n",
        "Computer Engineering''')"
      ],
      "metadata": {
        "colab": {
          "base_uri": "https://localhost:8080/"
        },
        "id": "1FCFIMmmt6Ne",
        "outputId": "a3868ddb-f3d5-4c95-96e0-9287848157e7"
      },
      "execution_count": 16,
      "outputs": [
        {
          "output_type": "stream",
          "name": "stdout",
          "text": [
            "Manisa Celal Bayar University\n",
            "Faculty of Engineering\n",
            "Computer Engineering\n"
          ]
        }
      ]
    },
    {
      "cell_type": "code",
      "source": [
        "print (\"Manisa Celal Bayar University Faculty of Engineering Computer Engineering\")"
      ],
      "metadata": {
        "colab": {
          "base_uri": "https://localhost:8080/"
        },
        "id": "y3qzjQpKuTUx",
        "outputId": "ca7f2229-9d9d-4500-a96c-5975c1b59746"
      },
      "execution_count": 17,
      "outputs": [
        {
          "output_type": "stream",
          "name": "stdout",
          "text": [
            "Manisa Celal Bayar University Faculty of Engineering Computer Engineering\n"
          ]
        }
      ]
    },
    {
      "cell_type": "code",
      "source": [
        "aList=['Computer','Telephone','TV']\n",
        "print(aList)"
      ],
      "metadata": {
        "colab": {
          "base_uri": "https://localhost:8080/"
        },
        "id": "zxstl2EsubpC",
        "outputId": "7ca9c474-dd38-477c-91aa-b5f15e44c1b2"
      },
      "execution_count": 18,
      "outputs": [
        {
          "output_type": "stream",
          "name": "stdout",
          "text": [
            "['Computer', 'Telephone', 'TV']\n"
          ]
        }
      ]
    },
    {
      "cell_type": "code",
      "source": [
        "print(aList[0])\n",
        "print(aList[2])\n",
        "print(aList[-1])"
      ],
      "metadata": {
        "colab": {
          "base_uri": "https://localhost:8080/"
        },
        "id": "FxlAflAEunLF",
        "outputId": "fb95e968-ca9f-4f6f-8cd4-66348ffa7e5e"
      },
      "execution_count": 19,
      "outputs": [
        {
          "output_type": "stream",
          "name": "stdout",
          "text": [
            "Computer\n",
            "TV\n",
            "TV\n"
          ]
        }
      ]
    },
    {
      "cell_type": "code",
      "source": [
        "bList=['Keyboard','Wifi','Mouse']"
      ],
      "metadata": {
        "id": "UuZvvvpXutdu"
      },
      "execution_count": 20,
      "outputs": []
    },
    {
      "cell_type": "code",
      "source": [
        "cList=[aList,bList]\n",
        "print(cList)\n",
        "print(cList[1][1])"
      ],
      "metadata": {
        "colab": {
          "base_uri": "https://localhost:8080/"
        },
        "id": "qz_oiST1u1a9",
        "outputId": "03455271-e1cc-48a8-c748-ed6b915ef170"
      },
      "execution_count": 24,
      "outputs": [
        {
          "output_type": "stream",
          "name": "stdout",
          "text": [
            "[['Computer', 'Telephone', 'TV'], ['Keyboard', 'Wifi', 'Mouse']]\n",
            "Wifi\n"
          ]
        }
      ]
    },
    {
      "cell_type": "code",
      "source": [
        "print(cList[0][1])\n",
        "print(cList[1][1])"
      ],
      "metadata": {
        "colab": {
          "base_uri": "https://localhost:8080/"
        },
        "id": "CXW_XW5Nu6JP",
        "outputId": "df11fb6d-d352-4577-966e-28fae7f60749"
      },
      "execution_count": 25,
      "outputs": [
        {
          "output_type": "stream",
          "name": "stdout",
          "text": [
            "Telephone\n",
            "Wifi\n"
          ]
        }
      ]
    },
    {
      "cell_type": "code",
      "source": [
        "numbers=[1,2,3,4,5,6,7,8,9]"
      ],
      "metadata": {
        "id": "v2mbgdsJu_rW"
      },
      "execution_count": 26,
      "outputs": []
    },
    {
      "cell_type": "code",
      "source": [
        "print(numbers[:])# all list\n",
        "print(numbers[2:]) \n",
        "print(numbers[:4]) \n",
        "print(numbers[1:4]) \n",
        "print(numbers[::3])"
      ],
      "metadata": {
        "colab": {
          "base_uri": "https://localhost:8080/"
        },
        "id": "MYF8lOEavEfB",
        "outputId": "ca0154ec-3e96-431b-d1d1-abdea8f5b1c0"
      },
      "execution_count": 27,
      "outputs": [
        {
          "output_type": "stream",
          "name": "stdout",
          "text": [
            "[1, 2, 3, 4, 5, 6, 7, 8, 9]\n",
            "[3, 4, 5, 6, 7, 8, 9]\n",
            "[1, 2, 3, 4]\n",
            "[2, 3, 4]\n",
            "[1, 4, 7]\n"
          ]
        }
      ]
    },
    {
      "cell_type": "code",
      "source": [
        "len(numbers)"
      ],
      "metadata": {
        "colab": {
          "base_uri": "https://localhost:8080/"
        },
        "id": "2QLlMTLIvQbl",
        "outputId": "cf4031ec-5df3-4f32-b8d0-dbb6d21a4330"
      },
      "execution_count": 28,
      "outputs": [
        {
          "output_type": "execute_result",
          "data": {
            "text/plain": [
              "9"
            ]
          },
          "metadata": {},
          "execution_count": 28
        }
      ]
    },
    {
      "cell_type": "code",
      "source": [
        "numbers[-3]"
      ],
      "metadata": {
        "colab": {
          "base_uri": "https://localhost:8080/"
        },
        "id": "KSa3WVVpsLDw",
        "outputId": "6c203f04-8635-49ec-8a9a-699ac2f2bb4e"
      },
      "execution_count": 30,
      "outputs": [
        {
          "output_type": "execute_result",
          "data": {
            "text/plain": [
              "7"
            ]
          },
          "metadata": {},
          "execution_count": 30
        }
      ]
    },
    {
      "cell_type": "code",
      "source": [
        "index=len(numbers)\n",
        "numbers[index-1]"
      ],
      "metadata": {
        "colab": {
          "base_uri": "https://localhost:8080/"
        },
        "id": "bwCS6A1CvURU",
        "outputId": "c1c22c90-a489-4089-8d35-b616d2ca6e34"
      },
      "execution_count": 29,
      "outputs": [
        {
          "output_type": "execute_result",
          "data": {
            "text/plain": [
              "9"
            ]
          },
          "metadata": {},
          "execution_count": 29
        }
      ]
    },
    {
      "cell_type": "code",
      "source": [
        "names=['Ali','Ayşe','Gökhan','Fatma','Batur','Mehmet','Ayşegül','Abdullah']\n",
        "type(names)"
      ],
      "metadata": {
        "colab": {
          "base_uri": "https://localhost:8080/"
        },
        "id": "FWNMFSA_vaXx",
        "outputId": "cecf65e6-0d58-4285-cf57-f103da93e9ca"
      },
      "execution_count": 31,
      "outputs": [
        {
          "output_type": "execute_result",
          "data": {
            "text/plain": [
              "list"
            ]
          },
          "metadata": {},
          "execution_count": 31
        }
      ]
    },
    {
      "cell_type": "code",
      "source": [
        "max(names)"
      ],
      "metadata": {
        "colab": {
          "base_uri": "https://localhost:8080/",
          "height": 35
        },
        "id": "a2wLkj_Hvle4",
        "outputId": "4efe76bd-046e-49d8-8528-5d3b2e0782e3"
      },
      "execution_count": 32,
      "outputs": [
        {
          "output_type": "execute_result",
          "data": {
            "text/plain": [
              "'Mehmet'"
            ],
            "application/vnd.google.colaboratory.intrinsic+json": {
              "type": "string"
            }
          },
          "metadata": {},
          "execution_count": 32
        }
      ]
    },
    {
      "cell_type": "code",
      "source": [
        "min(names)"
      ],
      "metadata": {
        "colab": {
          "base_uri": "https://localhost:8080/",
          "height": 35
        },
        "id": "GwvJXkomvnda",
        "outputId": "0b67af90-5423-46e5-a673-01eb9eb0ce6e"
      },
      "execution_count": 33,
      "outputs": [
        {
          "output_type": "execute_result",
          "data": {
            "text/plain": [
              "'Abdullah'"
            ],
            "application/vnd.google.colaboratory.intrinsic+json": {
              "type": "string"
            }
          },
          "metadata": {},
          "execution_count": 33
        }
      ]
    },
    {
      "cell_type": "code",
      "source": [
        "'Ali' in names"
      ],
      "metadata": {
        "colab": {
          "base_uri": "https://localhost:8080/"
        },
        "id": "q1n18Sx6vsTY",
        "outputId": "d55a0c5d-f388-4f09-ea2e-8fd833e2053f"
      },
      "execution_count": 35,
      "outputs": [
        {
          "output_type": "execute_result",
          "data": {
            "text/plain": [
              "True"
            ]
          },
          "metadata": {},
          "execution_count": 35
        }
      ]
    },
    {
      "cell_type": "code",
      "source": [
        "print(max(names, key=len))\n",
        "print(min(names, key=len))"
      ],
      "metadata": {
        "colab": {
          "base_uri": "https://localhost:8080/"
        },
        "id": "73RNfalvvuB3",
        "outputId": "70dde2e7-fda6-4470-8f1f-318eee62844a"
      },
      "execution_count": 36,
      "outputs": [
        {
          "output_type": "stream",
          "name": "stdout",
          "text": [
            "Abdullah\n",
            "Ali\n"
          ]
        }
      ]
    },
    {
      "cell_type": "code",
      "source": [
        "lst=[3,5,7,9,4]"
      ],
      "metadata": {
        "id": "FbI-5n7ov0P5"
      },
      "execution_count": 37,
      "outputs": []
    },
    {
      "cell_type": "code",
      "source": [
        "lst.append(1)\n",
        "lst"
      ],
      "metadata": {
        "colab": {
          "base_uri": "https://localhost:8080/"
        },
        "id": "PLesJPqjv5Rg",
        "outputId": "01efc79e-c3b2-4881-d3eb-268b82dacaff"
      },
      "execution_count": 42,
      "outputs": [
        {
          "output_type": "execute_result",
          "data": {
            "text/plain": [
              "[3, 5, 7, 9, 4, 1, 1, 1, 1]"
            ]
          },
          "metadata": {},
          "execution_count": 42
        }
      ]
    },
    {
      "cell_type": "code",
      "source": [
        "lst.count(1)"
      ],
      "metadata": {
        "colab": {
          "base_uri": "https://localhost:8080/"
        },
        "id": "U4tJa93bv8IM",
        "outputId": "09bd1151-eff8-4101-fd67-8932da7f3e43"
      },
      "execution_count": 43,
      "outputs": [
        {
          "output_type": "execute_result",
          "data": {
            "text/plain": [
              "4"
            ]
          },
          "metadata": {},
          "execution_count": 43
        }
      ]
    },
    {
      "cell_type": "code",
      "source": [
        "lst1=[1,2,3]"
      ],
      "metadata": {
        "id": "1kinGwhdv_48"
      },
      "execution_count": 44,
      "outputs": []
    },
    {
      "cell_type": "code",
      "source": [
        "lst.append(lst1)"
      ],
      "metadata": {
        "id": "9Slq0cITwIaX"
      },
      "execution_count": 45,
      "outputs": []
    },
    {
      "cell_type": "code",
      "source": [
        "print(lst)"
      ],
      "metadata": {
        "colab": {
          "base_uri": "https://localhost:8080/"
        },
        "id": "Ve1oDx2zwJf6",
        "outputId": "e5301e15-568c-4efa-9bd5-211778f5127a"
      },
      "execution_count": 46,
      "outputs": [
        {
          "output_type": "stream",
          "name": "stdout",
          "text": [
            "[3, 5, 7, 9, 4, 1, 1, 1, 1, [1, 2, 3]]\n"
          ]
        }
      ]
    },
    {
      "cell_type": "code",
      "source": [
        "lst.extend(lst1)"
      ],
      "metadata": {
        "id": "mQTlovMbwLs3"
      },
      "execution_count": 47,
      "outputs": []
    },
    {
      "cell_type": "code",
      "source": [
        "print(lst)\n",
        "print(lst[9][1])"
      ],
      "metadata": {
        "colab": {
          "base_uri": "https://localhost:8080/"
        },
        "id": "YwVxClQqwOgP",
        "outputId": "f10ca899-e220-4e5d-b494-591b03d03112"
      },
      "execution_count": 50,
      "outputs": [
        {
          "output_type": "stream",
          "name": "stdout",
          "text": [
            "[3, 5, 7, 9, 4, 1, 1, 1, 1, [1, 2, 3], 1, 2, 3]\n",
            "2\n"
          ]
        }
      ]
    },
    {
      "cell_type": "code",
      "source": [
        "lst.index(1)"
      ],
      "metadata": {
        "colab": {
          "base_uri": "https://localhost:8080/"
        },
        "id": "IHPDCaWGwbQo",
        "outputId": "79bbd17a-9c97-4161-8efe-740cdcfbdd48"
      },
      "execution_count": 53,
      "outputs": [
        {
          "output_type": "execute_result",
          "data": {
            "text/plain": [
              "5"
            ]
          },
          "metadata": {},
          "execution_count": 53
        }
      ]
    },
    {
      "cell_type": "code",
      "source": [
        "lst.insert(2, 8)"
      ],
      "metadata": {
        "id": "iuw8PgaCwmSj"
      },
      "execution_count": 54,
      "outputs": []
    },
    {
      "cell_type": "code",
      "source": [
        "print(lst)"
      ],
      "metadata": {
        "colab": {
          "base_uri": "https://localhost:8080/"
        },
        "id": "wrE3WJ15wq0h",
        "outputId": "a227f266-a646-4309-ef21-4f20f8482f6d"
      },
      "execution_count": 55,
      "outputs": [
        {
          "output_type": "stream",
          "name": "stdout",
          "text": [
            "[3, 5, 8, 7, 9, 4, 1, 1, 1, 1, [1, 2, 3], 1, 2, 3]\n"
          ]
        }
      ]
    },
    {
      "cell_type": "code",
      "source": [
        "del lst[2]"
      ],
      "metadata": {
        "id": "YnSl909pwtOQ"
      },
      "execution_count": 56,
      "outputs": []
    },
    {
      "cell_type": "code",
      "source": [
        "print(lst)"
      ],
      "metadata": {
        "colab": {
          "base_uri": "https://localhost:8080/"
        },
        "id": "vzUZ_AZ7w1TX",
        "outputId": "0615e6b8-6c81-4490-e73b-3043eddb12e7"
      },
      "execution_count": 57,
      "outputs": [
        {
          "output_type": "stream",
          "name": "stdout",
          "text": [
            "[3, 5, 7, 9, 4, 1, 1, 1, 1, [1, 2, 3], 1, 2, 3]\n"
          ]
        }
      ]
    },
    {
      "cell_type": "code",
      "source": [
        "del lst[9]\n",
        "lst"
      ],
      "metadata": {
        "colab": {
          "base_uri": "https://localhost:8080/"
        },
        "id": "omRwxafgvWLP",
        "outputId": "8502ed27-19ea-4b8a-86f6-9475eee06a74"
      },
      "execution_count": 59,
      "outputs": [
        {
          "output_type": "execute_result",
          "data": {
            "text/plain": [
              "[3, 5, 7, 9, 4, 1, 1, 1, 1, 1, 2, 3]"
            ]
          },
          "metadata": {},
          "execution_count": 59
        }
      ]
    },
    {
      "cell_type": "code",
      "source": [
        "lst2=[4,8,9,6,7,2,1]\n",
        "lst2.sort()\n",
        "print(lst2)\n",
        "lst2.sort(reverse=True)\n",
        "print(lst2)"
      ],
      "metadata": {
        "colab": {
          "base_uri": "https://localhost:8080/"
        },
        "id": "Ebnec83Bw2-U",
        "outputId": "c025d544-2153-4df5-cd46-b066e33df3c3"
      },
      "execution_count": 61,
      "outputs": [
        {
          "output_type": "stream",
          "name": "stdout",
          "text": [
            "[1, 2, 4, 6, 7, 8, 9]\n",
            "[9, 8, 7, 6, 4, 2, 1]\n"
          ]
        }
      ]
    },
    {
      "cell_type": "code",
      "source": [
        "sentence='Manisa Celal Bayar University'\n",
        "print(sentence)\n",
        "print(type(sentence))"
      ],
      "metadata": {
        "colab": {
          "base_uri": "https://localhost:8080/"
        },
        "id": "mpsYd7tAw7M7",
        "outputId": "e73bce0b-866b-45b7-ea61-b48ff5c001cf"
      },
      "execution_count": 62,
      "outputs": [
        {
          "output_type": "stream",
          "name": "stdout",
          "text": [
            "Manisa Celal Bayar University\n",
            "<class 'str'>\n"
          ]
        }
      ]
    },
    {
      "cell_type": "code",
      "source": [
        "print(sentence)\n",
        "print(sentence[4])\n",
        "print(sentence[4:])\n",
        "print(sentence[-10:])\n",
        "print(sentence[19:])"
      ],
      "metadata": {
        "colab": {
          "base_uri": "https://localhost:8080/"
        },
        "id": "8u62MUs2xFLM",
        "outputId": "1f6e9ea7-5930-4cff-8a53-167ca599363c"
      },
      "execution_count": 67,
      "outputs": [
        {
          "output_type": "stream",
          "name": "stdout",
          "text": [
            "Manisa Celal Bayar University\n",
            "s\n",
            "sa Celal Bayar University\n",
            "University\n",
            "University\n"
          ]
        }
      ]
    },
    {
      "cell_type": "code",
      "source": [
        "print(sentence.find('Cel'))\n",
        "print(sentence.find('University'))\n",
        "print(sentence.find('a',6,11))"
      ],
      "metadata": {
        "colab": {
          "base_uri": "https://localhost:8080/"
        },
        "id": "sfHuVb3MxKhw",
        "outputId": "68dded02-7ca1-4225-d25b-a818fc03d890"
      },
      "execution_count": 71,
      "outputs": [
        {
          "output_type": "stream",
          "name": "stdout",
          "text": [
            "7\n",
            "19\n",
            "10\n"
          ]
        }
      ]
    },
    {
      "cell_type": "code",
      "source": [
        "print(sentence.capitalize())"
      ],
      "metadata": {
        "colab": {
          "base_uri": "https://localhost:8080/"
        },
        "id": "BTZK3cUHxauW",
        "outputId": "eb034efa-7ee5-4f2d-bc4b-bb17a2ab9d01"
      },
      "execution_count": 72,
      "outputs": [
        {
          "output_type": "stream",
          "name": "stdout",
          "text": [
            "Manisa celal bayar university\n"
          ]
        }
      ]
    },
    {
      "cell_type": "code",
      "source": [
        "print(sentence.upper())\n",
        "print(sentence.lower())"
      ],
      "metadata": {
        "colab": {
          "base_uri": "https://localhost:8080/"
        },
        "id": "5ejD-6Elxju9",
        "outputId": "bce9a18d-a153-4cc9-cd91-ff69f60c503d"
      },
      "execution_count": 74,
      "outputs": [
        {
          "output_type": "stream",
          "name": "stdout",
          "text": [
            "MANISA CELAL BAYAR UNIVERSITY\n",
            "manisa celal bayar university\n"
          ]
        }
      ]
    },
    {
      "cell_type": "code",
      "source": [
        "sentence='MANISA Celal Bayar University'\n",
        "print(sentence.count('a'))\n",
        "print(sentence.lower().count('a')) \n",
        "print(sentence.lower().count('a',5,15)) "
      ],
      "metadata": {
        "colab": {
          "base_uri": "https://localhost:8080/"
        },
        "id": "HWns7B1CxnCq",
        "outputId": "9f0c2858-0ba7-4098-fed3-311a86cf6d02"
      },
      "execution_count": 77,
      "outputs": [
        {
          "output_type": "stream",
          "name": "stdout",
          "text": [
            "3\n",
            "5\n",
            "3\n"
          ]
        }
      ]
    },
    {
      "cell_type": "code",
      "source": [
        "print(sentence.replace('University','Uni'))"
      ],
      "metadata": {
        "colab": {
          "base_uri": "https://localhost:8080/"
        },
        "id": "zKp0f4wnx2Dl",
        "outputId": "f1dc80a5-a91b-479a-f122-65677658beb7"
      },
      "execution_count": 78,
      "outputs": [
        {
          "output_type": "stream",
          "name": "stdout",
          "text": [
            "MANISA Celal Bayar Uni\n"
          ]
        }
      ]
    },
    {
      "cell_type": "code",
      "source": [
        "example='             Hello World     '\n",
        "print(example)"
      ],
      "metadata": {
        "colab": {
          "base_uri": "https://localhost:8080/"
        },
        "id": "zsopMZTcyApH",
        "outputId": "d15bb683-841d-4f02-f12b-0e590cf57148"
      },
      "execution_count": 79,
      "outputs": [
        {
          "output_type": "stream",
          "name": "stdout",
          "text": [
            "             Hello World     \n"
          ]
        }
      ]
    },
    {
      "cell_type": "code",
      "source": [
        "example2=example.strip()\n",
        "print(example2)"
      ],
      "metadata": {
        "colab": {
          "base_uri": "https://localhost:8080/"
        },
        "id": "Uzgf2yPfyGlf",
        "outputId": "8b55220b-3892-45c1-e380-9303ce0ad71d"
      },
      "execution_count": 80,
      "outputs": [
        {
          "output_type": "stream",
          "name": "stdout",
          "text": [
            "Hello World\n"
          ]
        }
      ]
    },
    {
      "cell_type": "code",
      "source": [
        "example3='      ******-------Hello World-------**************     '"
      ],
      "metadata": {
        "id": "gTehOIlyyRdQ"
      },
      "execution_count": 81,
      "outputs": []
    },
    {
      "cell_type": "code",
      "source": [
        "ex4=example3.strip()\n",
        "ex4=ex4.strip('*')\n",
        "print(ex4)\n",
        "print(ex4.strip('-'))"
      ],
      "metadata": {
        "colab": {
          "base_uri": "https://localhost:8080/"
        },
        "id": "O99_94mSyiAu",
        "outputId": "021e056c-0483-4b39-a6d1-59373a92ea47"
      },
      "execution_count": 84,
      "outputs": [
        {
          "output_type": "stream",
          "name": "stdout",
          "text": [
            "-------Hello World-------\n",
            "Hello World\n"
          ]
        }
      ]
    },
    {
      "cell_type": "code",
      "source": [
        "dictionary={}\n",
        "dictionary1=dict()\n",
        "print(type(dictionary),type(dictionary1))"
      ],
      "metadata": {
        "colab": {
          "base_uri": "https://localhost:8080/"
        },
        "id": "ZQ-D7nYxywYy",
        "outputId": "f60ed171-b9df-49c2-f925-dc45950e9924"
      },
      "execution_count": 85,
      "outputs": [
        {
          "output_type": "stream",
          "name": "stdout",
          "text": [
            "<class 'dict'> <class 'dict'>\n"
          ]
        }
      ]
    },
    {
      "cell_type": "code",
      "source": [
        "dictionary['One']=1\n",
        "dictionary['Two']=2\n",
        "print(dictionary)"
      ],
      "metadata": {
        "colab": {
          "base_uri": "https://localhost:8080/"
        },
        "id": "0H0QISHBz7-M",
        "outputId": "e6a9c3f3-5e13-4ad6-c58f-67e67af8cd0f"
      },
      "execution_count": 86,
      "outputs": [
        {
          "output_type": "stream",
          "name": "stdout",
          "text": [
            "{'One': 1, 'Two': 2}\n"
          ]
        }
      ]
    },
    {
      "cell_type": "code",
      "source": [
        "print(dictionary['One'])"
      ],
      "metadata": {
        "colab": {
          "base_uri": "https://localhost:8080/"
        },
        "id": "hdZeqIDr1ecY",
        "outputId": "bcbb6d56-a852-4760-fe17-a1a4eea30dc9"
      },
      "execution_count": 87,
      "outputs": [
        {
          "output_type": "stream",
          "name": "stdout",
          "text": [
            "1\n"
          ]
        }
      ]
    },
    {
      "cell_type": "code",
      "source": [
        "names=['Ali','Esmanur','Gül','Baransel']\n",
        "numbers=[1,2,3,4]"
      ],
      "metadata": {
        "id": "DbgtUvfV1j-5"
      },
      "execution_count": 94,
      "outputs": []
    },
    {
      "cell_type": "code",
      "source": [
        "dictionary3=zip(names,numbers)\n",
        "print(type(dictionary3))\n",
        "dictionary4=dict(dictionary3)\n",
        "print(dictionary4) # key: value"
      ],
      "metadata": {
        "colab": {
          "base_uri": "https://localhost:8080/"
        },
        "id": "C-DzwBSq1pFI",
        "outputId": "5ab626c3-dcf9-47f3-e1ec-727fca62289d"
      },
      "execution_count": 95,
      "outputs": [
        {
          "output_type": "stream",
          "name": "stdout",
          "text": [
            "<class 'zip'>\n",
            "{'Ali': 1, 'Esmanur': 2, 'Gül': 3, 'Baransel': 4}\n"
          ]
        }
      ]
    },
    {
      "cell_type": "code",
      "source": [
        "#Dict ==>key,value\n",
        "dictionary4.keys()"
      ],
      "metadata": {
        "colab": {
          "base_uri": "https://localhost:8080/"
        },
        "id": "6xvWu7C6126P",
        "outputId": "ada4d72d-0f41-472a-8123-46ad4191ef38"
      },
      "execution_count": 96,
      "outputs": [
        {
          "output_type": "execute_result",
          "data": {
            "text/plain": [
              "dict_keys(['Ali', 'Esmanur', 'Gül', 'Baransel'])"
            ]
          },
          "metadata": {},
          "execution_count": 96
        }
      ]
    },
    {
      "cell_type": "code",
      "source": [
        "dictionary4.values()"
      ],
      "metadata": {
        "colab": {
          "base_uri": "https://localhost:8080/"
        },
        "id": "zmCrl6HJ18Ck",
        "outputId": "bb62c1ee-f236-402c-d415-5dd554131f1e"
      },
      "execution_count": 97,
      "outputs": [
        {
          "output_type": "execute_result",
          "data": {
            "text/plain": [
              "dict_values([1, 2, 3, 4])"
            ]
          },
          "metadata": {},
          "execution_count": 97
        }
      ]
    },
    {
      "cell_type": "code",
      "source": [
        "dictionary4.items()"
      ],
      "metadata": {
        "colab": {
          "base_uri": "https://localhost:8080/"
        },
        "id": "73i2c55s1-hT",
        "outputId": "1f6e56ee-c9e1-4123-bf98-9bdf98df1158"
      },
      "execution_count": 98,
      "outputs": [
        {
          "output_type": "execute_result",
          "data": {
            "text/plain": [
              "dict_items([('Ali', 1), ('Esmanur', 2), ('Gül', 3), ('Baransel', 4)])"
            ]
          },
          "metadata": {},
          "execution_count": 98
        }
      ]
    },
    {
      "cell_type": "code",
      "source": [
        "number1=15\n",
        "number2=17\n",
        "if number1>number2:\n",
        "  print('number1>number2')\n",
        "  print(number1)\n",
        "elif number1<number2: #else if==>elif\n",
        "  print('number1<number2')\n",
        "else:\n",
        "  print('number1=number2')"
      ],
      "metadata": {
        "colab": {
          "base_uri": "https://localhost:8080/"
        },
        "id": "K4S5reOi2DUk",
        "outputId": "50a06805-66e5-4cfc-b679-588ae442289e"
      },
      "execution_count": 99,
      "outputs": [
        {
          "output_type": "stream",
          "name": "stdout",
          "text": [
            "number1<number2\n"
          ]
        }
      ]
    },
    {
      "cell_type": "code",
      "source": [
        "if number1>number2:\n",
        "  print('number1>number2')\n",
        "else:\n",
        "  if number1<number2:\n",
        "    print('number1<number2')\n",
        "  else:\n",
        "    print('number1=number2')"
      ],
      "metadata": {
        "colab": {
          "base_uri": "https://localhost:8080/"
        },
        "id": "lbQZ6f3I2R_R",
        "outputId": "aef642a7-ac21-4e3b-dafe-b6ac9d70140e"
      },
      "execution_count": 100,
      "outputs": [
        {
          "output_type": "stream",
          "name": "stdout",
          "text": [
            "number1<number2\n"
          ]
        }
      ]
    },
    {
      "cell_type": "code",
      "source": [
        "for item in [1,2,3,4,5,6]:\n",
        "  print(item *2)"
      ],
      "metadata": {
        "colab": {
          "base_uri": "https://localhost:8080/"
        },
        "id": "yky523bg2dc0",
        "outputId": "26d3e359-f485-4c64-9aef-a9f35eda5ba0"
      },
      "execution_count": 101,
      "outputs": [
        {
          "output_type": "stream",
          "name": "stdout",
          "text": [
            "2\n",
            "4\n",
            "6\n",
            "8\n",
            "10\n",
            "12\n"
          ]
        }
      ]
    },
    {
      "cell_type": "code",
      "source": [
        "a=[7,8,9,10,11]\n",
        "for x in a:\n",
        "  print(x / 2)"
      ],
      "metadata": {
        "colab": {
          "base_uri": "https://localhost:8080/"
        },
        "id": "Rlah1VvR2i-z",
        "outputId": "184ff73d-9e0e-46de-e0f3-528bf87aa335"
      },
      "execution_count": 102,
      "outputs": [
        {
          "output_type": "stream",
          "name": "stdout",
          "text": [
            "3.5\n",
            "4.0\n",
            "4.5\n",
            "5.0\n",
            "5.5\n"
          ]
        }
      ]
    },
    {
      "cell_type": "code",
      "source": [
        "nestedList=[[1,2,3],[4,5,6],[7,8,9]]\n",
        "for list1 in nestedList:\n",
        "  print(list1)"
      ],
      "metadata": {
        "colab": {
          "base_uri": "https://localhost:8080/"
        },
        "id": "dfyJ6q172lmo",
        "outputId": "f01748bd-0f02-467c-c2d6-e256b02d086e"
      },
      "execution_count": 103,
      "outputs": [
        {
          "output_type": "stream",
          "name": "stdout",
          "text": [
            "[1, 2, 3]\n",
            "[4, 5, 6]\n",
            "[7, 8, 9]\n"
          ]
        }
      ]
    },
    {
      "cell_type": "code",
      "source": [
        "nestedList=[[1,2,3],[4,5,6],[7,8,9]]\n",
        "wantedNumber=int(input('Enter Information'))\n",
        "yes=0\n",
        "for list1 in nestedList:\n",
        "  for w in list1:\n",
        "    if w==wantedNumber:\n",
        "      yes=1\n",
        "if yes==1:\n",
        "  print('There is data in List...')\n",
        "else:\n",
        "  print('There is not data in List ..')"
      ],
      "metadata": {
        "colab": {
          "base_uri": "https://localhost:8080/"
        },
        "id": "LCu5VXC625jv",
        "outputId": "c9d033f6-b0e2-46c5-d703-c5b90e1bd796"
      },
      "execution_count": 105,
      "outputs": [
        {
          "output_type": "stream",
          "name": "stdout",
          "text": [
            "Enter Information12\n",
            "There is not data in List ..\n"
          ]
        }
      ]
    },
    {
      "cell_type": "code",
      "source": [
        "i=1\n",
        "while i<5:\n",
        "  print(i)\n",
        "  i=i+1"
      ],
      "metadata": {
        "colab": {
          "base_uri": "https://localhost:8080/"
        },
        "id": "o3nP3l873fhP",
        "outputId": "96f979dc-cbc6-4543-9aca-a8261f81cd1e"
      },
      "execution_count": 106,
      "outputs": [
        {
          "output_type": "stream",
          "name": "stdout",
          "text": [
            "1\n",
            "2\n",
            "3\n",
            "4\n"
          ]
        }
      ]
    },
    {
      "cell_type": "code",
      "source": [
        "for x in range(10):\n",
        "  print(x)\n",
        "  if x>=5:\n",
        "    break"
      ],
      "metadata": {
        "colab": {
          "base_uri": "https://localhost:8080/"
        },
        "id": "qTCnrJm53jum",
        "outputId": "79f445fc-c60d-44f5-fa02-00f8738e851c"
      },
      "execution_count": 86,
      "outputs": [
        {
          "output_type": "stream",
          "name": "stdout",
          "text": [
            "0\n",
            "1\n",
            "2\n",
            "3\n",
            "4\n",
            "5\n"
          ]
        }
      ]
    },
    {
      "cell_type": "code",
      "source": [
        "for i in range(10):#0 1 2 3 4 5 6 7 8 9 \n",
        "  if i>3:\n",
        "    print('Greater')\n",
        "    continue\n",
        "  elif i<6:\n",
        "    print(i)"
      ],
      "metadata": {
        "colab": {
          "base_uri": "https://localhost:8080/"
        },
        "id": "ybZODG8a3nN_",
        "outputId": "819722f0-45d7-439c-9fd7-6a687ffd1117"
      },
      "execution_count": 88,
      "outputs": [
        {
          "output_type": "stream",
          "name": "stdout",
          "text": [
            "0\n",
            "1\n",
            "2\n",
            "3\n",
            "Greater\n",
            "Greater\n",
            "Greater\n",
            "Greater\n",
            "Greater\n",
            "Greater\n"
          ]
        }
      ]
    },
    {
      "cell_type": "code",
      "source": [
        "[10*x for x in range(1,5)]"
      ],
      "metadata": {
        "colab": {
          "base_uri": "https://localhost:8080/"
        },
        "id": "KuxBfJFr3ob4",
        "outputId": "b96e70c5-7c58-4806-9c51-d544eb36c470"
      },
      "execution_count": 108,
      "outputs": [
        {
          "output_type": "execute_result",
          "data": {
            "text/plain": [
              "[10, 20, 30, 40]"
            ]
          },
          "metadata": {},
          "execution_count": 108
        }
      ]
    },
    {
      "cell_type": "code",
      "source": [
        "[i**2 for i in range(20) if i<5]"
      ],
      "metadata": {
        "colab": {
          "base_uri": "https://localhost:8080/"
        },
        "id": "ylchurVe3t3L",
        "outputId": "2f17093e-ac84-469a-e838-f93e838d2c39"
      },
      "execution_count": 110,
      "outputs": [
        {
          "output_type": "execute_result",
          "data": {
            "text/plain": [
              "[0, 1, 4, 9, 16]"
            ]
          },
          "metadata": {},
          "execution_count": 110
        }
      ]
    },
    {
      "cell_type": "code",
      "source": [
        "def printMessage():\n",
        "  print('Hello World!')\n"
      ],
      "metadata": {
        "id": "TpjsSvzf3ziX"
      },
      "execution_count": 111,
      "outputs": []
    },
    {
      "cell_type": "code",
      "source": [
        "printMessage()"
      ],
      "metadata": {
        "colab": {
          "base_uri": "https://localhost:8080/"
        },
        "id": "k4vFWUOj37xZ",
        "outputId": "067e653f-f9ae-4dd0-e08e-b465b224d56a"
      },
      "execution_count": 112,
      "outputs": [
        {
          "output_type": "stream",
          "name": "stdout",
          "text": [
            "Hello World!\n"
          ]
        }
      ]
    },
    {
      "cell_type": "code",
      "source": [
        "def helloFunc(name):\n",
        "  print(\"Hello \", name + \" Welcome..\")\n",
        "  print(name + \",\",\"How are you?\")"
      ],
      "metadata": {
        "id": "rdNolN6c386U"
      },
      "execution_count": 113,
      "outputs": []
    },
    {
      "cell_type": "code",
      "source": [
        "bilgi=input('Enter Name...')\n",
        "helloFunc(bilgi)"
      ],
      "metadata": {
        "colab": {
          "base_uri": "https://localhost:8080/"
        },
        "id": "eUHkvu384GUQ",
        "outputId": "09c3aa22-01b7-45e2-8781-91ed3226b056"
      },
      "execution_count": 114,
      "outputs": [
        {
          "output_type": "stream",
          "name": "stdout",
          "text": [
            "Enter Name...Mehmet\n",
            "Hello  Mehmet Welcome..\n",
            "Mehmet, How are you?\n"
          ]
        }
      ]
    },
    {
      "cell_type": "code",
      "source": [
        "def multiple(a,b):\n",
        "  '''This function multiplies 2 numbers'''\n",
        "  result=a*b\n",
        "  return result"
      ],
      "metadata": {
        "id": "GGZamn484J4n"
      },
      "execution_count": 116,
      "outputs": []
    },
    {
      "cell_type": "code",
      "source": [
        "value=multiple(3,6)\n",
        "print(value)"
      ],
      "metadata": {
        "colab": {
          "base_uri": "https://localhost:8080/"
        },
        "id": "J6eBcM6p4cCq",
        "outputId": "c4cf465b-0802-4b86-9400-cff663851fd0"
      },
      "execution_count": 117,
      "outputs": [
        {
          "output_type": "stream",
          "name": "stdout",
          "text": [
            "18\n"
          ]
        }
      ]
    },
    {
      "cell_type": "code",
      "source": [
        "help(multiple)"
      ],
      "metadata": {
        "colab": {
          "base_uri": "https://localhost:8080/"
        },
        "id": "qJbK0b3m4jt5",
        "outputId": "18098754-a86a-4f53-8e72-2e74a4409ae2"
      },
      "execution_count": 118,
      "outputs": [
        {
          "output_type": "stream",
          "name": "stdout",
          "text": [
            "Help on function multiple in module __main__:\n",
            "\n",
            "multiple(a, b)\n",
            "    This function multiplies 2 numbers\n",
            "\n"
          ]
        }
      ]
    },
    {
      "cell_type": "code",
      "source": [
        "def add(x,y,z=10):\n",
        "  return x+y+z"
      ],
      "metadata": {
        "id": "XPogTNXH4oHV"
      },
      "execution_count": 123,
      "outputs": []
    },
    {
      "cell_type": "code",
      "source": [
        "add(3,5)"
      ],
      "metadata": {
        "colab": {
          "base_uri": "https://localhost:8080/"
        },
        "id": "b5V6UiTB4tO1",
        "outputId": "3004a460-c947-41c0-8765-2e8c256ec063"
      },
      "execution_count": 124,
      "outputs": [
        {
          "output_type": "execute_result",
          "data": {
            "text/plain": [
              "18"
            ]
          },
          "metadata": {},
          "execution_count": 124
        }
      ]
    },
    {
      "cell_type": "code",
      "source": [
        "z=lambda x:x*x"
      ],
      "metadata": {
        "id": "LMMaTnX946UO"
      },
      "execution_count": 125,
      "outputs": []
    },
    {
      "cell_type": "code",
      "source": [
        "z(5)"
      ],
      "metadata": {
        "colab": {
          "base_uri": "https://localhost:8080/"
        },
        "id": "5s0EDvUE48lK",
        "outputId": "0d7efb70-bbb8-4a34-95ed-189c04d522fc"
      },
      "execution_count": 126,
      "outputs": [
        {
          "output_type": "execute_result",
          "data": {
            "text/plain": [
              "25"
            ]
          },
          "metadata": {},
          "execution_count": 126
        }
      ]
    },
    {
      "cell_type": "code",
      "source": [
        "def z1(x):\n",
        "  return x*x"
      ],
      "metadata": {
        "id": "3BrZbh-E49lA"
      },
      "execution_count": 127,
      "outputs": []
    },
    {
      "cell_type": "code",
      "source": [
        "z1(5)"
      ],
      "metadata": {
        "colab": {
          "base_uri": "https://localhost:8080/"
        },
        "id": "K0VQrtON5AHl",
        "outputId": "2c7dbc43-86eb-468c-fc21-1cd95a77707c"
      },
      "execution_count": 128,
      "outputs": [
        {
          "output_type": "execute_result",
          "data": {
            "text/plain": [
              "25"
            ]
          },
          "metadata": {},
          "execution_count": 128
        }
      ]
    },
    {
      "cell_type": "code",
      "source": [
        "lst1=[1,2,3,4,5]"
      ],
      "metadata": {
        "id": "tYl0G8wz5G8n"
      },
      "execution_count": 129,
      "outputs": []
    },
    {
      "cell_type": "code",
      "source": [
        "newLst=map(lambda x:x+2, lst1)\n",
        "aaa=list(newLst)\n",
        "print(aaa)"
      ],
      "metadata": {
        "colab": {
          "base_uri": "https://localhost:8080/"
        },
        "id": "obLQIfNb5JtP",
        "outputId": "eeb1d85f-6e04-4f2b-b61a-fcbf9b94f91e"
      },
      "execution_count": 130,
      "outputs": [
        {
          "output_type": "stream",
          "name": "stdout",
          "text": [
            "[3, 4, 5, 6, 7]\n"
          ]
        }
      ]
    },
    {
      "cell_type": "code",
      "source": [
        "print(list(filter(lambda x:x<4, lst1)))\n",
        "print(list(map(lambda x:x<4, lst1)))\n",
        "print(lst1)"
      ],
      "metadata": {
        "colab": {
          "base_uri": "https://localhost:8080/"
        },
        "id": "mtV7T9bp5ToI",
        "outputId": "fbb02b40-6b5e-4026-8524-622b0047c200"
      },
      "execution_count": 131,
      "outputs": [
        {
          "output_type": "stream",
          "name": "stdout",
          "text": [
            "[1, 2, 3]\n",
            "[True, True, True, False, False]\n",
            "[1, 2, 3, 4, 5]\n"
          ]
        }
      ]
    }
  ]
}
