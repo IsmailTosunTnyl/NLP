{
  "nbformat": 4,
  "nbformat_minor": 0,
  "metadata": {
    "colab": {
      "provenance": [],
      "authorship_tag": "ABX9TyMxKbioXTySBA6I4wE6PR1p"
    },
    "kernelspec": {
      "name": "python3",
      "display_name": "Python 3"
    },
    "language_info": {
      "name": "python"
    }
  },
  "cells": [
    {
      "cell_type": "code",
      "execution_count": 1,
      "metadata": {
        "id": "v9ddNRjDnRr6"
      },
      "outputs": [],
      "source": [
        "# ilgili twitter kütüphanlerin eklenmesi\n",
        "from tweepy.streaming import StreamListener\n",
        "from tweepy import OAuthHandler\n",
        "from tweepy import Stream"
      ]
    },
    {
      "cell_type": "code",
      "source": [
        "#twitter api erişim bilgilerinin girilmesi\n",
        "consumer_key    = 'rClN9bFec5Znvxrb1yT7on'\n",
        "consumer_secret = 'pxL5YV26ISVUId1FqkD9ngpSBUN3qMX5oIcM2bgqEIXOuGo'\n",
        "access_token    = '139501997-rikZmd58umUmkXVOQjjKuwbuz4vSzSyCJUXG7'\n",
        "access_token_secret = 'bWHAZSbJspuH0wkiU44ZH52LMK0bfUjg2feXQnxLONoym'"
      ],
      "metadata": {
        "id": "mjpbfrtVnaHn"
      },
      "execution_count": 11,
      "outputs": []
    },
    {
      "cell_type": "code",
      "source": [
        "import tweepy\n",
        "# authenticate\n",
        "auth = tweepy.OAuthHandler(consumer_key, consumer_secret)\n",
        "api = tweepy.API(auth, wait_on_rate_limit=True)"
      ],
      "metadata": {
        "id": "yOwMGW_ypCTg"
      },
      "execution_count": 12,
      "outputs": []
    },
    {
      "cell_type": "code",
      "source": [
        "search_query = \"#messi -filter:retweets\""
      ],
      "metadata": {
        "id": "nGgwy1OWpQCi"
      },
      "execution_count": 21,
      "outputs": []
    },
    {
      "cell_type": "code",
      "source": [
        "# get tweets from the API\n",
        "tweets = tweepy.Cursor(api.search,\n",
        "              q=search_query,\n",
        "              lang=\"en\",\n",
        "              since=\"2020-09-16\").items(500)\n",
        "\n",
        "# store the API responses in a list\n",
        "tweets_copy = []\n",
        "for tweet in tweets:\n",
        "    tweets_copy.append(tweet)\n",
        "    \n",
        "print(\"Total Tweets fetched:\", len(tweets_copy))"
      ],
      "metadata": {
        "colab": {
          "base_uri": "https://localhost:8080/"
        },
        "id": "STHRuU50pVb3",
        "outputId": "ec414d65-fc1c-4066-d303-ece108f654fa"
      },
      "execution_count": 22,
      "outputs": [
        {
          "output_type": "stream",
          "name": "stdout",
          "text": [
            "Total Tweets fetched: 500\n"
          ]
        }
      ]
    },
    {
      "cell_type": "code",
      "source": [
        "import pandas as pd\n",
        "\n",
        "# intialize the dataframe\n",
        "tweets_df = pd.DataFrame()\n",
        "\n",
        "# populate the dataframe\n",
        "for tweet in tweets_copy:\n",
        "    hashtags = []\n",
        "    try:\n",
        "        for hashtag in tweet.entities[\"hashtags\"]:\n",
        "            hashtags.append(hashtag[\"text\"])\n",
        "        text = api.get_status(id=tweet.id, tweet_mode='extended').full_text\n",
        "    except:\n",
        "        pass\n",
        "    tweets_df = tweets_df.append(pd.DataFrame({'user_name': tweet.user.name, \n",
        "                                               'user_location': tweet.user.location,\\\n",
        "                                               'user_description': tweet.user.description,\n",
        "                                               'user_verified': tweet.user.verified,\n",
        "                                               'date': tweet.created_at,\n",
        "                                               'text': text, \n",
        "                                               'hashtags': [hashtags if hashtags else None],\n",
        "                                               'source': tweet.source}))\n",
        "    tweets_df = tweets_df.reset_index(drop=True)\n",
        "\n",
        "# show the dataframe\n",
        "tweets_df.head()"
      ],
      "metadata": {
        "colab": {
          "base_uri": "https://localhost:8080/",
          "height": 206
        },
        "id": "WgOn0Dhzq1aJ",
        "outputId": "de1efe23-dc5e-4c06-f0a9-0549c7c27256"
      },
      "execution_count": 23,
      "outputs": [
        {
          "output_type": "execute_result",
          "data": {
            "text/plain": [
              "           user_name  user_location  \\\n",
              "0                Fra      I'm cozy    \n",
              "1  oghenerobo ernest        Nigeria   \n",
              "2         OMEGA 🇧🇩🇵🇸           Mars   \n",
              "3       Roshan Singh  कोलकाता, भारत   \n",
              "4     Bobby Sanghavi                  \n",
              "\n",
              "                                    user_description  user_verified  \\\n",
              "0  Pretty when I wake up, I'm a bad bitch at brea...          False   \n",
              "1                           Everything is achievable          False   \n",
              "2          I ask myself, why am I talkin' like this?          False   \n",
              "3  Law Student | Football is Life | Indian Footba...          False   \n",
              "4                                                             False   \n",
              "\n",
              "                 date                                               text  \\\n",
              "0 2022-12-18 19:25:16        Argentina won 🇦🇷\\n#Messi #ArgentinaVsFrance   \n",
              "1 2022-12-18 19:25:15  Messi wins a world cup....debate over.....you ...   \n",
              "2 2022-12-18 19:25:14  Where were you that night when messi finally w...   \n",
              "3 2022-12-18 19:25:14  Thank you everyone for the support and for bel...   \n",
              "4 2022-12-18 19:25:14  I see skies of Blue and White\\n\\n#FIFAWorldCup...   \n",
              "\n",
              "                                            hashtags               source  \n",
              "0                         [Messi, ArgentinaVsFrance]  Twitter for Android  \n",
              "1                                            [messi]  Twitter for Android  \n",
              "2                                 [Argentina, Messi]  Twitter for Android  \n",
              "3                                               None  Twitter for Android  \n",
              "4  [FIFAWorldCup, Qatar2022, ArgentinaVsFrance, A...  Twitter for Android  "
            ],
            "text/html": [
              "\n",
              "  <div id=\"df-1c15294d-b8b5-436f-97e0-3ff9c44c8a4f\">\n",
              "    <div class=\"colab-df-container\">\n",
              "      <div>\n",
              "<style scoped>\n",
              "    .dataframe tbody tr th:only-of-type {\n",
              "        vertical-align: middle;\n",
              "    }\n",
              "\n",
              "    .dataframe tbody tr th {\n",
              "        vertical-align: top;\n",
              "    }\n",
              "\n",
              "    .dataframe thead th {\n",
              "        text-align: right;\n",
              "    }\n",
              "</style>\n",
              "<table border=\"1\" class=\"dataframe\">\n",
              "  <thead>\n",
              "    <tr style=\"text-align: right;\">\n",
              "      <th></th>\n",
              "      <th>user_name</th>\n",
              "      <th>user_location</th>\n",
              "      <th>user_description</th>\n",
              "      <th>user_verified</th>\n",
              "      <th>date</th>\n",
              "      <th>text</th>\n",
              "      <th>hashtags</th>\n",
              "      <th>source</th>\n",
              "    </tr>\n",
              "  </thead>\n",
              "  <tbody>\n",
              "    <tr>\n",
              "      <th>0</th>\n",
              "      <td>Fra</td>\n",
              "      <td>I'm cozy</td>\n",
              "      <td>Pretty when I wake up, I'm a bad bitch at brea...</td>\n",
              "      <td>False</td>\n",
              "      <td>2022-12-18 19:25:16</td>\n",
              "      <td>Argentina won 🇦🇷\\n#Messi #ArgentinaVsFrance</td>\n",
              "      <td>[Messi, ArgentinaVsFrance]</td>\n",
              "      <td>Twitter for Android</td>\n",
              "    </tr>\n",
              "    <tr>\n",
              "      <th>1</th>\n",
              "      <td>oghenerobo ernest</td>\n",
              "      <td>Nigeria</td>\n",
              "      <td>Everything is achievable</td>\n",
              "      <td>False</td>\n",
              "      <td>2022-12-18 19:25:15</td>\n",
              "      <td>Messi wins a world cup....debate over.....you ...</td>\n",
              "      <td>[messi]</td>\n",
              "      <td>Twitter for Android</td>\n",
              "    </tr>\n",
              "    <tr>\n",
              "      <th>2</th>\n",
              "      <td>OMEGA 🇧🇩🇵🇸</td>\n",
              "      <td>Mars</td>\n",
              "      <td>I ask myself, why am I talkin' like this?</td>\n",
              "      <td>False</td>\n",
              "      <td>2022-12-18 19:25:14</td>\n",
              "      <td>Where were you that night when messi finally w...</td>\n",
              "      <td>[Argentina, Messi]</td>\n",
              "      <td>Twitter for Android</td>\n",
              "    </tr>\n",
              "    <tr>\n",
              "      <th>3</th>\n",
              "      <td>Roshan Singh</td>\n",
              "      <td>कोलकाता, भारत</td>\n",
              "      <td>Law Student | Football is Life | Indian Footba...</td>\n",
              "      <td>False</td>\n",
              "      <td>2022-12-18 19:25:14</td>\n",
              "      <td>Thank you everyone for the support and for bel...</td>\n",
              "      <td>None</td>\n",
              "      <td>Twitter for Android</td>\n",
              "    </tr>\n",
              "    <tr>\n",
              "      <th>4</th>\n",
              "      <td>Bobby Sanghavi</td>\n",
              "      <td></td>\n",
              "      <td></td>\n",
              "      <td>False</td>\n",
              "      <td>2022-12-18 19:25:14</td>\n",
              "      <td>I see skies of Blue and White\\n\\n#FIFAWorldCup...</td>\n",
              "      <td>[FIFAWorldCup, Qatar2022, ArgentinaVsFrance, A...</td>\n",
              "      <td>Twitter for Android</td>\n",
              "    </tr>\n",
              "  </tbody>\n",
              "</table>\n",
              "</div>\n",
              "      <button class=\"colab-df-convert\" onclick=\"convertToInteractive('df-1c15294d-b8b5-436f-97e0-3ff9c44c8a4f')\"\n",
              "              title=\"Convert this dataframe to an interactive table.\"\n",
              "              style=\"display:none;\">\n",
              "        \n",
              "  <svg xmlns=\"http://www.w3.org/2000/svg\" height=\"24px\"viewBox=\"0 0 24 24\"\n",
              "       width=\"24px\">\n",
              "    <path d=\"M0 0h24v24H0V0z\" fill=\"none\"/>\n",
              "    <path d=\"M18.56 5.44l.94 2.06.94-2.06 2.06-.94-2.06-.94-.94-2.06-.94 2.06-2.06.94zm-11 1L8.5 8.5l.94-2.06 2.06-.94-2.06-.94L8.5 2.5l-.94 2.06-2.06.94zm10 10l.94 2.06.94-2.06 2.06-.94-2.06-.94-.94-2.06-.94 2.06-2.06.94z\"/><path d=\"M17.41 7.96l-1.37-1.37c-.4-.4-.92-.59-1.43-.59-.52 0-1.04.2-1.43.59L10.3 9.45l-7.72 7.72c-.78.78-.78 2.05 0 2.83L4 21.41c.39.39.9.59 1.41.59.51 0 1.02-.2 1.41-.59l7.78-7.78 2.81-2.81c.8-.78.8-2.07 0-2.86zM5.41 20L4 18.59l7.72-7.72 1.47 1.35L5.41 20z\"/>\n",
              "  </svg>\n",
              "      </button>\n",
              "      \n",
              "  <style>\n",
              "    .colab-df-container {\n",
              "      display:flex;\n",
              "      flex-wrap:wrap;\n",
              "      gap: 12px;\n",
              "    }\n",
              "\n",
              "    .colab-df-convert {\n",
              "      background-color: #E8F0FE;\n",
              "      border: none;\n",
              "      border-radius: 50%;\n",
              "      cursor: pointer;\n",
              "      display: none;\n",
              "      fill: #1967D2;\n",
              "      height: 32px;\n",
              "      padding: 0 0 0 0;\n",
              "      width: 32px;\n",
              "    }\n",
              "\n",
              "    .colab-df-convert:hover {\n",
              "      background-color: #E2EBFA;\n",
              "      box-shadow: 0px 1px 2px rgba(60, 64, 67, 0.3), 0px 1px 3px 1px rgba(60, 64, 67, 0.15);\n",
              "      fill: #174EA6;\n",
              "    }\n",
              "\n",
              "    [theme=dark] .colab-df-convert {\n",
              "      background-color: #3B4455;\n",
              "      fill: #D2E3FC;\n",
              "    }\n",
              "\n",
              "    [theme=dark] .colab-df-convert:hover {\n",
              "      background-color: #434B5C;\n",
              "      box-shadow: 0px 1px 3px 1px rgba(0, 0, 0, 0.15);\n",
              "      filter: drop-shadow(0px 1px 2px rgba(0, 0, 0, 0.3));\n",
              "      fill: #FFFFFF;\n",
              "    }\n",
              "  </style>\n",
              "\n",
              "      <script>\n",
              "        const buttonEl =\n",
              "          document.querySelector('#df-1c15294d-b8b5-436f-97e0-3ff9c44c8a4f button.colab-df-convert');\n",
              "        buttonEl.style.display =\n",
              "          google.colab.kernel.accessAllowed ? 'block' : 'none';\n",
              "\n",
              "        async function convertToInteractive(key) {\n",
              "          const element = document.querySelector('#df-1c15294d-b8b5-436f-97e0-3ff9c44c8a4f');\n",
              "          const dataTable =\n",
              "            await google.colab.kernel.invokeFunction('convertToInteractive',\n",
              "                                                     [key], {});\n",
              "          if (!dataTable) return;\n",
              "\n",
              "          const docLinkHtml = 'Like what you see? Visit the ' +\n",
              "            '<a target=\"_blank\" href=https://colab.research.google.com/notebooks/data_table.ipynb>data table notebook</a>'\n",
              "            + ' to learn more about interactive tables.';\n",
              "          element.innerHTML = '';\n",
              "          dataTable['output_type'] = 'display_data';\n",
              "          await google.colab.output.renderOutput(dataTable, element);\n",
              "          const docLink = document.createElement('div');\n",
              "          docLink.innerHTML = docLinkHtml;\n",
              "          element.appendChild(docLink);\n",
              "        }\n",
              "      </script>\n",
              "    </div>\n",
              "  </div>\n",
              "  "
            ]
          },
          "metadata": {},
          "execution_count": 23
        }
      ]
    },
    {
      "cell_type": "code",
      "source": [
        "tweets_df['user_name'].value_counts(dropna =False)  "
      ],
      "metadata": {
        "colab": {
          "base_uri": "https://localhost:8080/"
        },
        "id": "dyG0H37QrYex",
        "outputId": "d824b846-6793-4f6d-85c1-38a9d37fc77d"
      },
      "execution_count": 24,
      "outputs": [
        {
          "output_type": "execute_result",
          "data": {
            "text/plain": [
              "Hidayet Rehberi Kur'an                   12\n",
              "Bee-One                                   2\n",
              "Jai Hind Janta 🇮🇳🙏                        2\n",
              "DINESH DADHICH                            2\n",
              "The One And Only                          2\n",
              "                                         ..\n",
              "J.                                        1\n",
              "$_CHZ (Chiliz) Coin_$ Investor/Trader     1\n",
              "Ali Zain                                  1\n",
              "Mortadha Mohammed                         1\n",
              "Riju Paul                                 1\n",
              "Name: user_name, Length: 475, dtype: int64"
            ]
          },
          "metadata": {},
          "execution_count": 24
        }
      ]
    },
    {
      "cell_type": "code",
      "source": [
        "filtered = tweets_df.groupby('user_name').filter(lambda x: len(x) <= 3)\n",
        "tweets_df=tweets_df[tweets_df.isin(filtered)]\n",
        "tweets_df['user_name'].value_counts(dropna =False)"
      ],
      "metadata": {
        "colab": {
          "base_uri": "https://localhost:8080/"
        },
        "id": "8sNiSkaJrgEM",
        "outputId": "81db256a-9b24-4ad8-dadd-580dc5ec249e"
      },
      "execution_count": 25,
      "outputs": [
        {
          "output_type": "execute_result",
          "data": {
            "text/plain": [
              "NaN                                      12\n",
              "Bee-One                                   2\n",
              "Jai Hind Janta 🇮🇳🙏                        2\n",
              "DINESH DADHICH                            2\n",
              "The One And Only                          2\n",
              "                                         ..\n",
              "J.                                        1\n",
              "$_CHZ (Chiliz) Coin_$ Investor/Trader     1\n",
              "Ali Zain                                  1\n",
              "Mortadha Mohammed                         1\n",
              "Riju Paul                                 1\n",
              "Name: user_name, Length: 475, dtype: int64"
            ]
          },
          "metadata": {},
          "execution_count": 25
        }
      ]
    },
    {
      "cell_type": "code",
      "source": [
        "# General:\n",
        "import tweepy           # To consume Twitter's API\n",
        "import pandas as pd     # To handle data\n",
        "import numpy as np      # For number computing\n",
        "\n",
        "# For plotting and visualization:\n",
        "from IPython.display import display\n",
        "import matplotlib.pyplot as plt\n",
        "import seaborn as sns\n",
        "%matplotlib inline"
      ],
      "metadata": {
        "id": "mmz2acdEuNb_"
      },
      "execution_count": 27,
      "outputs": []
    },
    {
      "cell_type": "code",
      "source": [
        "# API's setup:\n",
        "def twitter_setup():\n",
        "    \"\"\"\n",
        "    Utility function to setup the Twitter's API\n",
        "    with our access keys provided.\n",
        "    \"\"\"\n",
        "    # Authentication and access using keys:\n",
        "    auth = tweepy.OAuthHandler(consumer_key, consumer_secret)\n",
        "    auth.set_access_token(access_token, access_token_secret)\n",
        "\n",
        "    # Return API with authentication:\n",
        "    api = tweepy.API(auth)\n",
        "    return api"
      ],
      "metadata": {
        "id": "bFOWWYzXuRFm"
      },
      "execution_count": 29,
      "outputs": []
    },
    {
      "cell_type": "code",
      "source": [
        "# We create an extractor object:\n",
        "extractor = twitter_setup()\n",
        "\n",
        "# We create a tweet list as follows:\n",
        "tweets = extractor.user_timeline(screen_name=\"realDonaldTrump\", count=200)\n",
        "print(\"Number of tweets extracted: {}.\\n\".format(len(tweets)))\n",
        "\n",
        "# We print the most recent 5 tweets:\n",
        "print(\"5 recent tweets:\\n\")\n",
        "for tweet in tweets[:5]:\n",
        "    print(tweet.text)\n",
        "    print()"
      ],
      "metadata": {
        "colab": {
          "base_uri": "https://localhost:8080/"
        },
        "id": "wUOj_57_ukeC",
        "outputId": "92feb558-7eaf-4c6f-f150-ce44035328fc"
      },
      "execution_count": 30,
      "outputs": [
        {
          "output_type": "stream",
          "name": "stdout",
          "text": [
            "Number of tweets extracted: 191.\n",
            "\n",
            "5 recent tweets:\n",
            "\n",
            "To all of those who have asked, I will not be going to the Inauguration on January 20th.\n",
            "\n",
            "The 75,000,000 great American Patriots who voted for me, AMERICA FIRST, and MAKE AMERICA GREAT AGAIN, will have a G… https://t.co/D1YuWzkn15\n",
            "\n",
            "https://t.co/csX07ZVWGe\n",
            "\n",
            "I am asking for everyone at the U.S. Capitol to remain peaceful. No violence! Remember, WE are the Party of Law &amp; O… https://t.co/XWZnbZWwze\n",
            "\n",
            "Please support our Capitol Police and Law Enforcement. They are truly on the side of our Country. Stay peaceful!\n",
            "\n"
          ]
        }
      ]
    },
    {
      "cell_type": "code",
      "source": [
        "# We create a pandas dataframe as follows:\n",
        "data = pd.DataFrame(data=[tweet.text for tweet in tweets], columns=['Tweets'])\n",
        "\n",
        "# We display the first 10 elements of the dataframe:\n",
        "display(data.head(10))"
      ],
      "metadata": {
        "colab": {
          "base_uri": "https://localhost:8080/",
          "height": 363
        },
        "id": "ZYAllfi-usLB",
        "outputId": "b59a8455-9a3c-4b27-bc00-77528616304e"
      },
      "execution_count": 31,
      "outputs": [
        {
          "output_type": "display_data",
          "data": {
            "text/plain": [
              "                                              Tweets\n",
              "0  To all of those who have asked, I will not be ...\n",
              "1  The 75,000,000 great American Patriots who vot...\n",
              "2                            https://t.co/csX07ZVWGe\n",
              "3  I am asking for everyone at the U.S. Capitol t...\n",
              "4  Please support our Capitol Police and Law Enfo...\n",
              "5                            https://t.co/izItBeFE6G\n",
              "6  These scoundrels are only toying with the @sen...\n",
              "7                        Even Mexico uses Voter I.D.\n",
              "8  The States want to redo their votes. They foun...\n",
              "9  They just happened to find 50,000 ballots late..."
            ],
            "text/html": [
              "\n",
              "  <div id=\"df-e2ae8408-48df-4f1a-a72d-aeec6524ace5\">\n",
              "    <div class=\"colab-df-container\">\n",
              "      <div>\n",
              "<style scoped>\n",
              "    .dataframe tbody tr th:only-of-type {\n",
              "        vertical-align: middle;\n",
              "    }\n",
              "\n",
              "    .dataframe tbody tr th {\n",
              "        vertical-align: top;\n",
              "    }\n",
              "\n",
              "    .dataframe thead th {\n",
              "        text-align: right;\n",
              "    }\n",
              "</style>\n",
              "<table border=\"1\" class=\"dataframe\">\n",
              "  <thead>\n",
              "    <tr style=\"text-align: right;\">\n",
              "      <th></th>\n",
              "      <th>Tweets</th>\n",
              "    </tr>\n",
              "  </thead>\n",
              "  <tbody>\n",
              "    <tr>\n",
              "      <th>0</th>\n",
              "      <td>To all of those who have asked, I will not be ...</td>\n",
              "    </tr>\n",
              "    <tr>\n",
              "      <th>1</th>\n",
              "      <td>The 75,000,000 great American Patriots who vot...</td>\n",
              "    </tr>\n",
              "    <tr>\n",
              "      <th>2</th>\n",
              "      <td>https://t.co/csX07ZVWGe</td>\n",
              "    </tr>\n",
              "    <tr>\n",
              "      <th>3</th>\n",
              "      <td>I am asking for everyone at the U.S. Capitol t...</td>\n",
              "    </tr>\n",
              "    <tr>\n",
              "      <th>4</th>\n",
              "      <td>Please support our Capitol Police and Law Enfo...</td>\n",
              "    </tr>\n",
              "    <tr>\n",
              "      <th>5</th>\n",
              "      <td>https://t.co/izItBeFE6G</td>\n",
              "    </tr>\n",
              "    <tr>\n",
              "      <th>6</th>\n",
              "      <td>These scoundrels are only toying with the @sen...</td>\n",
              "    </tr>\n",
              "    <tr>\n",
              "      <th>7</th>\n",
              "      <td>Even Mexico uses Voter I.D.</td>\n",
              "    </tr>\n",
              "    <tr>\n",
              "      <th>8</th>\n",
              "      <td>The States want to redo their votes. They foun...</td>\n",
              "    </tr>\n",
              "    <tr>\n",
              "      <th>9</th>\n",
              "      <td>They just happened to find 50,000 ballots late...</td>\n",
              "    </tr>\n",
              "  </tbody>\n",
              "</table>\n",
              "</div>\n",
              "      <button class=\"colab-df-convert\" onclick=\"convertToInteractive('df-e2ae8408-48df-4f1a-a72d-aeec6524ace5')\"\n",
              "              title=\"Convert this dataframe to an interactive table.\"\n",
              "              style=\"display:none;\">\n",
              "        \n",
              "  <svg xmlns=\"http://www.w3.org/2000/svg\" height=\"24px\"viewBox=\"0 0 24 24\"\n",
              "       width=\"24px\">\n",
              "    <path d=\"M0 0h24v24H0V0z\" fill=\"none\"/>\n",
              "    <path d=\"M18.56 5.44l.94 2.06.94-2.06 2.06-.94-2.06-.94-.94-2.06-.94 2.06-2.06.94zm-11 1L8.5 8.5l.94-2.06 2.06-.94-2.06-.94L8.5 2.5l-.94 2.06-2.06.94zm10 10l.94 2.06.94-2.06 2.06-.94-2.06-.94-.94-2.06-.94 2.06-2.06.94z\"/><path d=\"M17.41 7.96l-1.37-1.37c-.4-.4-.92-.59-1.43-.59-.52 0-1.04.2-1.43.59L10.3 9.45l-7.72 7.72c-.78.78-.78 2.05 0 2.83L4 21.41c.39.39.9.59 1.41.59.51 0 1.02-.2 1.41-.59l7.78-7.78 2.81-2.81c.8-.78.8-2.07 0-2.86zM5.41 20L4 18.59l7.72-7.72 1.47 1.35L5.41 20z\"/>\n",
              "  </svg>\n",
              "      </button>\n",
              "      \n",
              "  <style>\n",
              "    .colab-df-container {\n",
              "      display:flex;\n",
              "      flex-wrap:wrap;\n",
              "      gap: 12px;\n",
              "    }\n",
              "\n",
              "    .colab-df-convert {\n",
              "      background-color: #E8F0FE;\n",
              "      border: none;\n",
              "      border-radius: 50%;\n",
              "      cursor: pointer;\n",
              "      display: none;\n",
              "      fill: #1967D2;\n",
              "      height: 32px;\n",
              "      padding: 0 0 0 0;\n",
              "      width: 32px;\n",
              "    }\n",
              "\n",
              "    .colab-df-convert:hover {\n",
              "      background-color: #E2EBFA;\n",
              "      box-shadow: 0px 1px 2px rgba(60, 64, 67, 0.3), 0px 1px 3px 1px rgba(60, 64, 67, 0.15);\n",
              "      fill: #174EA6;\n",
              "    }\n",
              "\n",
              "    [theme=dark] .colab-df-convert {\n",
              "      background-color: #3B4455;\n",
              "      fill: #D2E3FC;\n",
              "    }\n",
              "\n",
              "    [theme=dark] .colab-df-convert:hover {\n",
              "      background-color: #434B5C;\n",
              "      box-shadow: 0px 1px 3px 1px rgba(0, 0, 0, 0.15);\n",
              "      filter: drop-shadow(0px 1px 2px rgba(0, 0, 0, 0.3));\n",
              "      fill: #FFFFFF;\n",
              "    }\n",
              "  </style>\n",
              "\n",
              "      <script>\n",
              "        const buttonEl =\n",
              "          document.querySelector('#df-e2ae8408-48df-4f1a-a72d-aeec6524ace5 button.colab-df-convert');\n",
              "        buttonEl.style.display =\n",
              "          google.colab.kernel.accessAllowed ? 'block' : 'none';\n",
              "\n",
              "        async function convertToInteractive(key) {\n",
              "          const element = document.querySelector('#df-e2ae8408-48df-4f1a-a72d-aeec6524ace5');\n",
              "          const dataTable =\n",
              "            await google.colab.kernel.invokeFunction('convertToInteractive',\n",
              "                                                     [key], {});\n",
              "          if (!dataTable) return;\n",
              "\n",
              "          const docLinkHtml = 'Like what you see? Visit the ' +\n",
              "            '<a target=\"_blank\" href=https://colab.research.google.com/notebooks/data_table.ipynb>data table notebook</a>'\n",
              "            + ' to learn more about interactive tables.';\n",
              "          element.innerHTML = '';\n",
              "          dataTable['output_type'] = 'display_data';\n",
              "          await google.colab.output.renderOutput(dataTable, element);\n",
              "          const docLink = document.createElement('div');\n",
              "          docLink.innerHTML = docLinkHtml;\n",
              "          element.appendChild(docLink);\n",
              "        }\n",
              "      </script>\n",
              "    </div>\n",
              "  </div>\n",
              "  "
            ]
          },
          "metadata": {}
        }
      ]
    },
    {
      "cell_type": "code",
      "source": [
        "# Internal methods of a single tweet object:\n",
        "print(dir(tweets[0]))"
      ],
      "metadata": {
        "colab": {
          "base_uri": "https://localhost:8080/"
        },
        "id": "M--cpPdZuzRV",
        "outputId": "b623b6da-eb2d-43cb-be5d-ede5ff2990ea"
      },
      "execution_count": 32,
      "outputs": [
        {
          "output_type": "stream",
          "name": "stdout",
          "text": [
            "['__class__', '__delattr__', '__dict__', '__dir__', '__doc__', '__eq__', '__format__', '__ge__', '__getattribute__', '__getstate__', '__gt__', '__hash__', '__init__', '__init_subclass__', '__le__', '__lt__', '__module__', '__ne__', '__new__', '__reduce__', '__reduce_ex__', '__repr__', '__setattr__', '__sizeof__', '__str__', '__subclasshook__', '__weakref__', '_api', '_json', 'author', 'contributors', 'coordinates', 'created_at', 'destroy', 'entities', 'favorite', 'favorite_count', 'favorited', 'geo', 'id', 'id_str', 'in_reply_to_screen_name', 'in_reply_to_status_id', 'in_reply_to_status_id_str', 'in_reply_to_user_id', 'in_reply_to_user_id_str', 'is_quote_status', 'lang', 'parse', 'parse_list', 'place', 'retweet', 'retweet_count', 'retweeted', 'retweets', 'source', 'source_url', 'text', 'truncated', 'user']\n"
          ]
        }
      ]
    },
    {
      "cell_type": "code",
      "source": [
        "# We print info from the first tweet:\n",
        "print(tweets[0].id)\n",
        "print(tweets[0].created_at)\n",
        "print(tweets[0].source)\n",
        "print(tweets[0].favorite_count)\n",
        "print(tweets[0].retweet_count)\n",
        "print(tweets[0].geo)\n",
        "print(tweets[0].coordinates)\n",
        "print(tweets[0].entities)"
      ],
      "metadata": {
        "colab": {
          "base_uri": "https://localhost:8080/"
        },
        "id": "u55ftXNzu2iD",
        "outputId": "fd267824-b17b-444b-b60f-9c81541b61f5"
      },
      "execution_count": 33,
      "outputs": [
        {
          "output_type": "stream",
          "name": "stdout",
          "text": [
            "1347569870578266115\n",
            "2021-01-08 15:44:28\n",
            "Twitter for iPhone\n",
            "612587\n",
            "76317\n",
            "None\n",
            "None\n",
            "{'hashtags': [], 'symbols': [], 'user_mentions': [], 'urls': []}\n"
          ]
        }
      ]
    },
    {
      "cell_type": "code",
      "source": [
        "# We add relevant data:\n",
        "data['len']  = np.array([len(tweet.text) for tweet in tweets])\n",
        "data['ID']   = np.array([tweet.id for tweet in tweets])\n",
        "data['Date'] = np.array([tweet.created_at for tweet in tweets])\n",
        "data['Source'] = np.array([tweet.source for tweet in tweets])\n",
        "data['Likes']  = np.array([tweet.favorite_count for tweet in tweets])\n",
        "data['RTs']    = np.array([tweet.retweet_count for tweet in tweets])"
      ],
      "metadata": {
        "id": "iA-UudFfu8rJ"
      },
      "execution_count": 34,
      "outputs": []
    },
    {
      "cell_type": "code",
      "source": [
        "# Display of first 10 elements from dataframe:\n",
        "display(data.head(10))"
      ],
      "metadata": {
        "colab": {
          "base_uri": "https://localhost:8080/",
          "height": 363
        },
        "id": "cUJztCfnu_jE",
        "outputId": "1235c475-f191-4668-d114-8c357a0bba9e"
      },
      "execution_count": 35,
      "outputs": [
        {
          "output_type": "display_data",
          "data": {
            "text/plain": [
              "                                              Tweets  len  \\\n",
              "0  To all of those who have asked, I will not be ...   88   \n",
              "1  The 75,000,000 great American Patriots who vot...  140   \n",
              "2                            https://t.co/csX07ZVWGe   23   \n",
              "3  I am asking for everyone at the U.S. Capitol t...  144   \n",
              "4  Please support our Capitol Police and Law Enfo...  112   \n",
              "5                            https://t.co/izItBeFE6G   23   \n",
              "6  These scoundrels are only toying with the @sen...  140   \n",
              "7                        Even Mexico uses Voter I.D.   27   \n",
              "8  The States want to redo their votes. They foun...  130   \n",
              "9  They just happened to find 50,000 ballots late...  140   \n",
              "\n",
              "                    ID                Date                Source   Likes  \\\n",
              "0  1347569870578266115 2021-01-08 15:44:28    Twitter for iPhone  612587   \n",
              "1  1347555316863553542 2021-01-08 14:46:38    Twitter for iPhone  509793   \n",
              "2  1347334804052844550 2021-01-08 00:10:24  Twitter Media Studio  630703   \n",
              "3  1346912780700577792 2021-01-06 20:13:26    Twitter for iPhone  695386   \n",
              "4  1346904110969315332 2021-01-06 19:38:58    Twitter for iPhone  533685   \n",
              "5  1346891760174329859 2021-01-06 18:49:54    Twitter for iPhone  208586   \n",
              "6  1346845109736845318 2021-01-06 15:44:31    Twitter for iPhone  189788   \n",
              "7  1346822958006886400 2021-01-06 14:16:30    Twitter for iPhone  393123   \n",
              "8  1346822610957561858 2021-01-06 14:15:07    Twitter for iPhone  233496   \n",
              "9  1346818855298072576 2021-01-06 14:00:12    Twitter for iPhone  292306   \n",
              "\n",
              "      RTs  \n",
              "0   76317  \n",
              "1   85643  \n",
              "2  126502  \n",
              "3  134759  \n",
              "4   87498  \n",
              "5   40844  \n",
              "6   32848  \n",
              "7   53319  \n",
              "8   40847  \n",
              "9   56791  "
            ],
            "text/html": [
              "\n",
              "  <div id=\"df-d792d558-8cac-4ec4-a3ff-9c5272f2ab82\">\n",
              "    <div class=\"colab-df-container\">\n",
              "      <div>\n",
              "<style scoped>\n",
              "    .dataframe tbody tr th:only-of-type {\n",
              "        vertical-align: middle;\n",
              "    }\n",
              "\n",
              "    .dataframe tbody tr th {\n",
              "        vertical-align: top;\n",
              "    }\n",
              "\n",
              "    .dataframe thead th {\n",
              "        text-align: right;\n",
              "    }\n",
              "</style>\n",
              "<table border=\"1\" class=\"dataframe\">\n",
              "  <thead>\n",
              "    <tr style=\"text-align: right;\">\n",
              "      <th></th>\n",
              "      <th>Tweets</th>\n",
              "      <th>len</th>\n",
              "      <th>ID</th>\n",
              "      <th>Date</th>\n",
              "      <th>Source</th>\n",
              "      <th>Likes</th>\n",
              "      <th>RTs</th>\n",
              "    </tr>\n",
              "  </thead>\n",
              "  <tbody>\n",
              "    <tr>\n",
              "      <th>0</th>\n",
              "      <td>To all of those who have asked, I will not be ...</td>\n",
              "      <td>88</td>\n",
              "      <td>1347569870578266115</td>\n",
              "      <td>2021-01-08 15:44:28</td>\n",
              "      <td>Twitter for iPhone</td>\n",
              "      <td>612587</td>\n",
              "      <td>76317</td>\n",
              "    </tr>\n",
              "    <tr>\n",
              "      <th>1</th>\n",
              "      <td>The 75,000,000 great American Patriots who vot...</td>\n",
              "      <td>140</td>\n",
              "      <td>1347555316863553542</td>\n",
              "      <td>2021-01-08 14:46:38</td>\n",
              "      <td>Twitter for iPhone</td>\n",
              "      <td>509793</td>\n",
              "      <td>85643</td>\n",
              "    </tr>\n",
              "    <tr>\n",
              "      <th>2</th>\n",
              "      <td>https://t.co/csX07ZVWGe</td>\n",
              "      <td>23</td>\n",
              "      <td>1347334804052844550</td>\n",
              "      <td>2021-01-08 00:10:24</td>\n",
              "      <td>Twitter Media Studio</td>\n",
              "      <td>630703</td>\n",
              "      <td>126502</td>\n",
              "    </tr>\n",
              "    <tr>\n",
              "      <th>3</th>\n",
              "      <td>I am asking for everyone at the U.S. Capitol t...</td>\n",
              "      <td>144</td>\n",
              "      <td>1346912780700577792</td>\n",
              "      <td>2021-01-06 20:13:26</td>\n",
              "      <td>Twitter for iPhone</td>\n",
              "      <td>695386</td>\n",
              "      <td>134759</td>\n",
              "    </tr>\n",
              "    <tr>\n",
              "      <th>4</th>\n",
              "      <td>Please support our Capitol Police and Law Enfo...</td>\n",
              "      <td>112</td>\n",
              "      <td>1346904110969315332</td>\n",
              "      <td>2021-01-06 19:38:58</td>\n",
              "      <td>Twitter for iPhone</td>\n",
              "      <td>533685</td>\n",
              "      <td>87498</td>\n",
              "    </tr>\n",
              "    <tr>\n",
              "      <th>5</th>\n",
              "      <td>https://t.co/izItBeFE6G</td>\n",
              "      <td>23</td>\n",
              "      <td>1346891760174329859</td>\n",
              "      <td>2021-01-06 18:49:54</td>\n",
              "      <td>Twitter for iPhone</td>\n",
              "      <td>208586</td>\n",
              "      <td>40844</td>\n",
              "    </tr>\n",
              "    <tr>\n",
              "      <th>6</th>\n",
              "      <td>These scoundrels are only toying with the @sen...</td>\n",
              "      <td>140</td>\n",
              "      <td>1346845109736845318</td>\n",
              "      <td>2021-01-06 15:44:31</td>\n",
              "      <td>Twitter for iPhone</td>\n",
              "      <td>189788</td>\n",
              "      <td>32848</td>\n",
              "    </tr>\n",
              "    <tr>\n",
              "      <th>7</th>\n",
              "      <td>Even Mexico uses Voter I.D.</td>\n",
              "      <td>27</td>\n",
              "      <td>1346822958006886400</td>\n",
              "      <td>2021-01-06 14:16:30</td>\n",
              "      <td>Twitter for iPhone</td>\n",
              "      <td>393123</td>\n",
              "      <td>53319</td>\n",
              "    </tr>\n",
              "    <tr>\n",
              "      <th>8</th>\n",
              "      <td>The States want to redo their votes. They foun...</td>\n",
              "      <td>130</td>\n",
              "      <td>1346822610957561858</td>\n",
              "      <td>2021-01-06 14:15:07</td>\n",
              "      <td>Twitter for iPhone</td>\n",
              "      <td>233496</td>\n",
              "      <td>40847</td>\n",
              "    </tr>\n",
              "    <tr>\n",
              "      <th>9</th>\n",
              "      <td>They just happened to find 50,000 ballots late...</td>\n",
              "      <td>140</td>\n",
              "      <td>1346818855298072576</td>\n",
              "      <td>2021-01-06 14:00:12</td>\n",
              "      <td>Twitter for iPhone</td>\n",
              "      <td>292306</td>\n",
              "      <td>56791</td>\n",
              "    </tr>\n",
              "  </tbody>\n",
              "</table>\n",
              "</div>\n",
              "      <button class=\"colab-df-convert\" onclick=\"convertToInteractive('df-d792d558-8cac-4ec4-a3ff-9c5272f2ab82')\"\n",
              "              title=\"Convert this dataframe to an interactive table.\"\n",
              "              style=\"display:none;\">\n",
              "        \n",
              "  <svg xmlns=\"http://www.w3.org/2000/svg\" height=\"24px\"viewBox=\"0 0 24 24\"\n",
              "       width=\"24px\">\n",
              "    <path d=\"M0 0h24v24H0V0z\" fill=\"none\"/>\n",
              "    <path d=\"M18.56 5.44l.94 2.06.94-2.06 2.06-.94-2.06-.94-.94-2.06-.94 2.06-2.06.94zm-11 1L8.5 8.5l.94-2.06 2.06-.94-2.06-.94L8.5 2.5l-.94 2.06-2.06.94zm10 10l.94 2.06.94-2.06 2.06-.94-2.06-.94-.94-2.06-.94 2.06-2.06.94z\"/><path d=\"M17.41 7.96l-1.37-1.37c-.4-.4-.92-.59-1.43-.59-.52 0-1.04.2-1.43.59L10.3 9.45l-7.72 7.72c-.78.78-.78 2.05 0 2.83L4 21.41c.39.39.9.59 1.41.59.51 0 1.02-.2 1.41-.59l7.78-7.78 2.81-2.81c.8-.78.8-2.07 0-2.86zM5.41 20L4 18.59l7.72-7.72 1.47 1.35L5.41 20z\"/>\n",
              "  </svg>\n",
              "      </button>\n",
              "      \n",
              "  <style>\n",
              "    .colab-df-container {\n",
              "      display:flex;\n",
              "      flex-wrap:wrap;\n",
              "      gap: 12px;\n",
              "    }\n",
              "\n",
              "    .colab-df-convert {\n",
              "      background-color: #E8F0FE;\n",
              "      border: none;\n",
              "      border-radius: 50%;\n",
              "      cursor: pointer;\n",
              "      display: none;\n",
              "      fill: #1967D2;\n",
              "      height: 32px;\n",
              "      padding: 0 0 0 0;\n",
              "      width: 32px;\n",
              "    }\n",
              "\n",
              "    .colab-df-convert:hover {\n",
              "      background-color: #E2EBFA;\n",
              "      box-shadow: 0px 1px 2px rgba(60, 64, 67, 0.3), 0px 1px 3px 1px rgba(60, 64, 67, 0.15);\n",
              "      fill: #174EA6;\n",
              "    }\n",
              "\n",
              "    [theme=dark] .colab-df-convert {\n",
              "      background-color: #3B4455;\n",
              "      fill: #D2E3FC;\n",
              "    }\n",
              "\n",
              "    [theme=dark] .colab-df-convert:hover {\n",
              "      background-color: #434B5C;\n",
              "      box-shadow: 0px 1px 3px 1px rgba(0, 0, 0, 0.15);\n",
              "      filter: drop-shadow(0px 1px 2px rgba(0, 0, 0, 0.3));\n",
              "      fill: #FFFFFF;\n",
              "    }\n",
              "  </style>\n",
              "\n",
              "      <script>\n",
              "        const buttonEl =\n",
              "          document.querySelector('#df-d792d558-8cac-4ec4-a3ff-9c5272f2ab82 button.colab-df-convert');\n",
              "        buttonEl.style.display =\n",
              "          google.colab.kernel.accessAllowed ? 'block' : 'none';\n",
              "\n",
              "        async function convertToInteractive(key) {\n",
              "          const element = document.querySelector('#df-d792d558-8cac-4ec4-a3ff-9c5272f2ab82');\n",
              "          const dataTable =\n",
              "            await google.colab.kernel.invokeFunction('convertToInteractive',\n",
              "                                                     [key], {});\n",
              "          if (!dataTable) return;\n",
              "\n",
              "          const docLinkHtml = 'Like what you see? Visit the ' +\n",
              "            '<a target=\"_blank\" href=https://colab.research.google.com/notebooks/data_table.ipynb>data table notebook</a>'\n",
              "            + ' to learn more about interactive tables.';\n",
              "          element.innerHTML = '';\n",
              "          dataTable['output_type'] = 'display_data';\n",
              "          await google.colab.output.renderOutput(dataTable, element);\n",
              "          const docLink = document.createElement('div');\n",
              "          docLink.innerHTML = docLinkHtml;\n",
              "          element.appendChild(docLink);\n",
              "        }\n",
              "      </script>\n",
              "    </div>\n",
              "  </div>\n",
              "  "
            ]
          },
          "metadata": {}
        }
      ]
    },
    {
      "cell_type": "code",
      "source": [
        "# We extract the mean of lenghts:\n",
        "mean = np.mean(data['len'])\n",
        "\n",
        "print(\"The lenght's average in tweets: {}\".format(mean))"
      ],
      "metadata": {
        "colab": {
          "base_uri": "https://localhost:8080/"
        },
        "id": "X-hPfw9zvERm",
        "outputId": "4217ad87-a961-409a-eac2-52341a6100c1"
      },
      "execution_count": 36,
      "outputs": [
        {
          "output_type": "stream",
          "name": "stdout",
          "text": [
            "The lenght's average in tweets: 97.6020942408377\n"
          ]
        }
      ]
    },
    {
      "cell_type": "code",
      "source": [
        "# We extract the tweet with more FAVs and more RTs:\n",
        "\n",
        "fav_max = np.max(data['Likes'])\n",
        "rt_max  = np.max(data['RTs'])\n",
        "\n",
        "fav = data[data.Likes == fav_max].index[0]\n",
        "rt  = data[data.RTs == rt_max].index[0]\n",
        "\n",
        "# Max FAVs:\n",
        "print(\"The tweet with more likes is: \\n{}\".format(data['Tweets'][fav]))\n",
        "print(\"Number of likes: {}\".format(fav_max))\n",
        "print(\"{} characters.\\n\".format(data['len'][fav]))\n",
        "\n",
        "# Max RTs:\n",
        "print(\"The tweet with more retweets is: \\n{}\".format(data['Tweets'][rt]))\n",
        "print(\"Number of retweets: {}\".format(rt_max))\n",
        "print(\"{} characters.\\n\".format(data['len'][rt]))"
      ],
      "metadata": {
        "colab": {
          "base_uri": "https://localhost:8080/"
        },
        "id": "adNCp0S7vI0o",
        "outputId": "b0be7801-7a2e-4635-8eca-0ab19912c880"
      },
      "execution_count": 37,
      "outputs": [
        {
          "output_type": "stream",
          "name": "stdout",
          "text": [
            "The tweet with more likes is: \n",
            "I am asking for everyone at the U.S. Capitol to remain peaceful. No violence! Remember, WE are the Party of Law &amp; O… https://t.co/XWZnbZWwze\n",
            "Number of likes: 695386\n",
            "144 characters.\n",
            "\n",
            "The tweet with more retweets is: \n",
            "I am asking for everyone at the U.S. Capitol to remain peaceful. No violence! Remember, WE are the Party of Law &amp; O… https://t.co/XWZnbZWwze\n",
            "Number of retweets: 134759\n",
            "144 characters.\n",
            "\n"
          ]
        }
      ]
    },
    {
      "cell_type": "code",
      "source": [
        "# We create time series for data:\n",
        "\n",
        "tlen = pd.Series(data=data['len'].values, index=data['Date'])\n",
        "tfav = pd.Series(data=data['Likes'].values, index=data['Date'])\n",
        "tret = pd.Series(data=data['RTs'].values, index=data['Date'])"
      ],
      "metadata": {
        "id": "vYkay4rRvObO"
      },
      "execution_count": 38,
      "outputs": []
    },
    {
      "cell_type": "code",
      "source": [
        "# Lenghts along time:\n",
        "tlen.plot(figsize=(16,4), color='r');"
      ],
      "metadata": {
        "colab": {
          "base_uri": "https://localhost:8080/",
          "height": 285
        },
        "id": "ol3FAmTavU1a",
        "outputId": "c1ac7ef6-c83f-4c3d-ab16-5b563cf66151"
      },
      "execution_count": 39,
      "outputs": [
        {
          "output_type": "display_data",
          "data": {
            "text/plain": [
              "<Figure size 1152x288 with 1 Axes>"
            ],
            "image/png": "[encoded data removed]"
          },
          "metadata": {
            "needs_background": "light"
          }
        }
      ]
    },
    {
      "cell_type": "code",
      "source": [
        "# Likes vs retweets visualization:\n",
        "tfav.plot(figsize=(16,4), label=\"Likes\", legend=True)\n",
        "tret.plot(figsize=(16,4), label=\"Retweets\", legend=True);"
      ],
      "metadata": {
        "colab": {
          "base_uri": "https://localhost:8080/",
          "height": 285
        },
        "id": "zXaOw6sDvZEs",
        "outputId": "22a6fcba-3afc-4d1a-ee1b-0a07bd31cd53"
      },
      "execution_count": 40,
      "outputs": [
        {
          "output_type": "display_data",
          "data": {
            "text/plain": [
              "<Figure size 1152x288 with 1 Axes>"
            ],
            "image/png": "[encoded data removed]"
          },
          "metadata": {
            "needs_background": "light"
          }
        }
      ]
    },
    {
      "cell_type": "code",
      "source": [
        "# We obtain all possible sources:\n",
        "sources = []\n",
        "for source in data['Source']:\n",
        "    if source not in sources:\n",
        "        sources.append(source)\n",
        "\n",
        "# We print sources list:\n",
        "print(\"Creation of content sources:\")\n",
        "for source in sources:\n",
        "    print(\"* {}\".format(source))"
      ],
      "metadata": {
        "colab": {
          "base_uri": "https://localhost:8080/"
        },
        "id": "w-LGu812vanp",
        "outputId": "c98b0e4b-338a-4a15-d482-2111309743ad"
      },
      "execution_count": 41,
      "outputs": [
        {
          "output_type": "stream",
          "name": "stdout",
          "text": [
            "Creation of content sources:\n",
            "* Twitter for iPhone\n",
            "* Twitter Media Studio\n"
          ]
        }
      ]
    },
    {
      "cell_type": "code",
      "source": [
        "# We create a numpy vector mapped to labels:\n",
        "percent = np.zeros(len(sources))\n",
        "\n",
        "for source in data['Source']:\n",
        "    for index in range(len(sources)):\n",
        "        if source == sources[index]:\n",
        "            percent[index] += 1\n",
        "            pass\n",
        "\n",
        "percent /= 100\n",
        "\n",
        "# Pie chart:\n",
        "pie_chart = pd.Series(percent, index=sources, name='Sources')\n",
        "pie_chart.plot.pie(fontsize=11, autopct='%.2f', figsize=(6, 6));"
      ],
      "metadata": {
        "colab": {
          "base_uri": "https://localhost:8080/",
          "height": 357
        },
        "id": "QaimnZ3kvd6J",
        "outputId": "e0521e17-ec95-4266-ace6-25d0e1583fa2"
      },
      "execution_count": 42,
      "outputs": [
        {
          "output_type": "display_data",
          "data": {
            "text/plain": [
              "<Figure size 432x432 with 1 Axes>"
            ],
            "image/png": "[encoded data removed]"
          },
          "metadata": {}
        }
      ]
    },
    {
      "cell_type": "code",
      "source": [
        "from textblob import TextBlob\n",
        "import re\n",
        "\n",
        "def clean_tweet(tweet):\n",
        "    '''\n",
        "    Utility function to clean the text in a tweet by removing\n",
        "    links and special characters using regex.\n",
        "    '''\n",
        "    return ' '.join(re.sub(\"(@[A-Za-z0-9]+)|([^0-9A-Za-z \\t])|(\\w+:\\/\\/\\S+)\", \" \", tweet).split())\n",
        "\n",
        "def analize_sentiment(tweet):\n",
        "    '''\n",
        "    Utility function to classify the polarity of a tweet\n",
        "    using textblob.\n",
        "    '''\n",
        "    analysis = TextBlob(clean_tweet(tweet))\n",
        "    if analysis.sentiment.polarity > 0:\n",
        "        return 1\n",
        "    elif analysis.sentiment.polarity == 0:\n",
        "        return 0\n",
        "    else:\n",
        "        return -1"
      ],
      "metadata": {
        "id": "lnqpJCP6vifT"
      },
      "execution_count": 43,
      "outputs": []
    },
    {
      "cell_type": "code",
      "source": [
        "# We create a column with the result of the analysis:\n",
        "data['SA'] = np.array([ analize_sentiment(tweet) for tweet in data['Tweets'] ])\n",
        "\n",
        "# We display the updated dataframe with the new column:\n",
        "display(data.head(10))"
      ],
      "metadata": {
        "colab": {
          "base_uri": "https://localhost:8080/",
          "height": 363
        },
        "id": "8WInVGjhvoFJ",
        "outputId": "c687a9de-1d4c-4f5b-dc5b-47105e0dba6c"
      },
      "execution_count": 44,
      "outputs": [
        {
          "output_type": "display_data",
          "data": {
            "text/plain": [
              "                                              Tweets  len  \\\n",
              "0  To all of those who have asked, I will not be ...   88   \n",
              "1  The 75,000,000 great American Patriots who vot...  140   \n",
              "2                            https://t.co/csX07ZVWGe   23   \n",
              "3  I am asking for everyone at the U.S. Capitol t...  144   \n",
              "4  Please support our Capitol Police and Law Enfo...  112   \n",
              "5                            https://t.co/izItBeFE6G   23   \n",
              "6  These scoundrels are only toying with the @sen...  140   \n",
              "7                        Even Mexico uses Voter I.D.   27   \n",
              "8  The States want to redo their votes. They foun...  130   \n",
              "9  They just happened to find 50,000 ballots late...  140   \n",
              "\n",
              "                    ID                Date                Source   Likes  \\\n",
              "0  1347569870578266115 2021-01-08 15:44:28    Twitter for iPhone  612587   \n",
              "1  1347555316863553542 2021-01-08 14:46:38    Twitter for iPhone  509793   \n",
              "2  1347334804052844550 2021-01-08 00:10:24  Twitter Media Studio  630703   \n",
              "3  1346912780700577792 2021-01-06 20:13:26    Twitter for iPhone  695386   \n",
              "4  1346904110969315332 2021-01-06 19:38:58    Twitter for iPhone  533685   \n",
              "5  1346891760174329859 2021-01-06 18:49:54    Twitter for iPhone  208586   \n",
              "6  1346845109736845318 2021-01-06 15:44:31    Twitter for iPhone  189788   \n",
              "7  1346822958006886400 2021-01-06 14:16:30    Twitter for iPhone  393123   \n",
              "8  1346822610957561858 2021-01-06 14:15:07    Twitter for iPhone  233496   \n",
              "9  1346818855298072576 2021-01-06 14:00:12    Twitter for iPhone  292306   \n",
              "\n",
              "      RTs  SA  \n",
              "0   76317   0  \n",
              "1   85643   1  \n",
              "2  126502   0  \n",
              "3  134759   1  \n",
              "4   87498   1  \n",
              "5   40844   0  \n",
              "6   32848   1  \n",
              "7   53319   0  \n",
              "8   40847   1  \n",
              "9   56791  -1  "
            ],
            "text/html": [
              "\n",
              "  <div id=\"df-45ae672c-9763-475a-9587-96c5b12d51e7\">\n",
              "    <div class=\"colab-df-container\">\n",
              "      <div>\n",
              "<style scoped>\n",
              "    .dataframe tbody tr th:only-of-type {\n",
              "        vertical-align: middle;\n",
              "    }\n",
              "\n",
              "    .dataframe tbody tr th {\n",
              "        vertical-align: top;\n",
              "    }\n",
              "\n",
              "    .dataframe thead th {\n",
              "        text-align: right;\n",
              "    }\n",
              "</style>\n",
              "<table border=\"1\" class=\"dataframe\">\n",
              "  <thead>\n",
              "    <tr style=\"text-align: right;\">\n",
              "      <th></th>\n",
              "      <th>Tweets</th>\n",
              "      <th>len</th>\n",
              "      <th>ID</th>\n",
              "      <th>Date</th>\n",
              "      <th>Source</th>\n",
              "      <th>Likes</th>\n",
              "      <th>RTs</th>\n",
              "      <th>SA</th>\n",
              "    </tr>\n",
              "  </thead>\n",
              "  <tbody>\n",
              "    <tr>\n",
              "      <th>0</th>\n",
              "      <td>To all of those who have asked, I will not be ...</td>\n",
              "      <td>88</td>\n",
              "      <td>1347569870578266115</td>\n",
              "      <td>2021-01-08 15:44:28</td>\n",
              "      <td>Twitter for iPhone</td>\n",
              "      <td>612587</td>\n",
              "      <td>76317</td>\n",
              "      <td>0</td>\n",
              "    </tr>\n",
              "    <tr>\n",
              "      <th>1</th>\n",
              "      <td>The 75,000,000 great American Patriots who vot...</td>\n",
              "      <td>140</td>\n",
              "      <td>1347555316863553542</td>\n",
              "      <td>2021-01-08 14:46:38</td>\n",
              "      <td>Twitter for iPhone</td>\n",
              "      <td>509793</td>\n",
              "      <td>85643</td>\n",
              "      <td>1</td>\n",
              "    </tr>\n",
              "    <tr>\n",
              "      <th>2</th>\n",
              "      <td>https://t.co/csX07ZVWGe</td>\n",
              "      <td>23</td>\n",
              "      <td>1347334804052844550</td>\n",
              "      <td>2021-01-08 00:10:24</td>\n",
              "      <td>Twitter Media Studio</td>\n",
              "      <td>630703</td>\n",
              "      <td>126502</td>\n",
              "      <td>0</td>\n",
              "    </tr>\n",
              "    <tr>\n",
              "      <th>3</th>\n",
              "      <td>I am asking for everyone at the U.S. Capitol t...</td>\n",
              "      <td>144</td>\n",
              "      <td>1346912780700577792</td>\n",
              "      <td>2021-01-06 20:13:26</td>\n",
              "      <td>Twitter for iPhone</td>\n",
              "      <td>695386</td>\n",
              "      <td>134759</td>\n",
              "      <td>1</td>\n",
              "    </tr>\n",
              "    <tr>\n",
              "      <th>4</th>\n",
              "      <td>Please support our Capitol Police and Law Enfo...</td>\n",
              "      <td>112</td>\n",
              "      <td>1346904110969315332</td>\n",
              "      <td>2021-01-06 19:38:58</td>\n",
              "      <td>Twitter for iPhone</td>\n",
              "      <td>533685</td>\n",
              "      <td>87498</td>\n",
              "      <td>1</td>\n",
              "    </tr>\n",
              "    <tr>\n",
              "      <th>5</th>\n",
              "      <td>https://t.co/izItBeFE6G</td>\n",
              "      <td>23</td>\n",
              "      <td>1346891760174329859</td>\n",
              "      <td>2021-01-06 18:49:54</td>\n",
              "      <td>Twitter for iPhone</td>\n",
              "      <td>208586</td>\n",
              "      <td>40844</td>\n",
              "      <td>0</td>\n",
              "    </tr>\n",
              "    <tr>\n",
              "      <th>6</th>\n",
              "      <td>These scoundrels are only toying with the @sen...</td>\n",
              "      <td>140</td>\n",
              "      <td>1346845109736845318</td>\n",
              "      <td>2021-01-06 15:44:31</td>\n",
              "      <td>Twitter for iPhone</td>\n",
              "      <td>189788</td>\n",
              "      <td>32848</td>\n",
              "      <td>1</td>\n",
              "    </tr>\n",
              "    <tr>\n",
              "      <th>7</th>\n",
              "      <td>Even Mexico uses Voter I.D.</td>\n",
              "      <td>27</td>\n",
              "      <td>1346822958006886400</td>\n",
              "      <td>2021-01-06 14:16:30</td>\n",
              "      <td>Twitter for iPhone</td>\n",
              "      <td>393123</td>\n",
              "      <td>53319</td>\n",
              "      <td>0</td>\n",
              "    </tr>\n",
              "    <tr>\n",
              "      <th>8</th>\n",
              "      <td>The States want to redo their votes. They foun...</td>\n",
              "      <td>130</td>\n",
              "      <td>1346822610957561858</td>\n",
              "      <td>2021-01-06 14:15:07</td>\n",
              "      <td>Twitter for iPhone</td>\n",
              "      <td>233496</td>\n",
              "      <td>40847</td>\n",
              "      <td>1</td>\n",
              "    </tr>\n",
              "    <tr>\n",
              "      <th>9</th>\n",
              "      <td>They just happened to find 50,000 ballots late...</td>\n",
              "      <td>140</td>\n",
              "      <td>1346818855298072576</td>\n",
              "      <td>2021-01-06 14:00:12</td>\n",
              "      <td>Twitter for iPhone</td>\n",
              "      <td>292306</td>\n",
              "      <td>56791</td>\n",
              "      <td>-1</td>\n",
              "    </tr>\n",
              "  </tbody>\n",
              "</table>\n",
              "</div>\n",
              "      <button class=\"colab-df-convert\" onclick=\"convertToInteractive('df-45ae672c-9763-475a-9587-96c5b12d51e7')\"\n",
              "              title=\"Convert this dataframe to an interactive table.\"\n",
              "              style=\"display:none;\">\n",
              "        \n",
              "  <svg xmlns=\"http://www.w3.org/2000/svg\" height=\"24px\"viewBox=\"0 0 24 24\"\n",
              "       width=\"24px\">\n",
              "    <path d=\"M0 0h24v24H0V0z\" fill=\"none\"/>\n",
              "    <path d=\"M18.56 5.44l.94 2.06.94-2.06 2.06-.94-2.06-.94-.94-2.06-.94 2.06-2.06.94zm-11 1L8.5 8.5l.94-2.06 2.06-.94-2.06-.94L8.5 2.5l-.94 2.06-2.06.94zm10 10l.94 2.06.94-2.06 2.06-.94-2.06-.94-.94-2.06-.94 2.06-2.06.94z\"/><path d=\"M17.41 7.96l-1.37-1.37c-.4-.4-.92-.59-1.43-.59-.52 0-1.04.2-1.43.59L10.3 9.45l-7.72 7.72c-.78.78-.78 2.05 0 2.83L4 21.41c.39.39.9.59 1.41.59.51 0 1.02-.2 1.41-.59l7.78-7.78 2.81-2.81c.8-.78.8-2.07 0-2.86zM5.41 20L4 18.59l7.72-7.72 1.47 1.35L5.41 20z\"/>\n",
              "  </svg>\n",
              "      </button>\n",
              "      \n",
              "  <style>\n",
              "    .colab-df-container {\n",
              "      display:flex;\n",
              "      flex-wrap:wrap;\n",
              "      gap: 12px;\n",
              "    }\n",
              "\n",
              "    .colab-df-convert {\n",
              "      background-color: #E8F0FE;\n",
              "      border: none;\n",
              "      border-radius: 50%;\n",
              "      cursor: pointer;\n",
              "      display: none;\n",
              "      fill: #1967D2;\n",
              "      height: 32px;\n",
              "      padding: 0 0 0 0;\n",
              "      width: 32px;\n",
              "    }\n",
              "\n",
              "    .colab-df-convert:hover {\n",
              "      background-color: #E2EBFA;\n",
              "      box-shadow: 0px 1px 2px rgba(60, 64, 67, 0.3), 0px 1px 3px 1px rgba(60, 64, 67, 0.15);\n",
              "      fill: #174EA6;\n",
              "    }\n",
              "\n",
              "    [theme=dark] .colab-df-convert {\n",
              "      background-color: #3B4455;\n",
              "      fill: #D2E3FC;\n",
              "    }\n",
              "\n",
              "    [theme=dark] .colab-df-convert:hover {\n",
              "      background-color: #434B5C;\n",
              "      box-shadow: 0px 1px 3px 1px rgba(0, 0, 0, 0.15);\n",
              "      filter: drop-shadow(0px 1px 2px rgba(0, 0, 0, 0.3));\n",
              "      fill: #FFFFFF;\n",
              "    }\n",
              "  </style>\n",
              "\n",
              "      <script>\n",
              "        const buttonEl =\n",
              "          document.querySelector('#df-45ae672c-9763-475a-9587-96c5b12d51e7 button.colab-df-convert');\n",
              "        buttonEl.style.display =\n",
              "          google.colab.kernel.accessAllowed ? 'block' : 'none';\n",
              "\n",
              "        async function convertToInteractive(key) {\n",
              "          const element = document.querySelector('#df-45ae672c-9763-475a-9587-96c5b12d51e7');\n",
              "          const dataTable =\n",
              "            await google.colab.kernel.invokeFunction('convertToInteractive',\n",
              "                                                     [key], {});\n",
              "          if (!dataTable) return;\n",
              "\n",
              "          const docLinkHtml = 'Like what you see? Visit the ' +\n",
              "            '<a target=\"_blank\" href=https://colab.research.google.com/notebooks/data_table.ipynb>data table notebook</a>'\n",
              "            + ' to learn more about interactive tables.';\n",
              "          element.innerHTML = '';\n",
              "          dataTable['output_type'] = 'display_data';\n",
              "          await google.colab.output.renderOutput(dataTable, element);\n",
              "          const docLink = document.createElement('div');\n",
              "          docLink.innerHTML = docLinkHtml;\n",
              "          element.appendChild(docLink);\n",
              "        }\n",
              "      </script>\n",
              "    </div>\n",
              "  </div>\n",
              "  "
            ]
          },
          "metadata": {}
        }
      ]
    },
    {
      "cell_type": "code",
      "source": [
        "# We construct lists with classified tweets:\n",
        "\n",
        "pos_tweets = [ tweet for index, tweet in enumerate(data['Tweets']) if data['SA'][index] > 0]\n",
        "neu_tweets = [ tweet for index, tweet in enumerate(data['Tweets']) if data['SA'][index] == 0]\n",
        "neg_tweets = [ tweet for index, tweet in enumerate(data['Tweets']) if data['SA'][index] < 0]"
      ],
      "metadata": {
        "id": "TPv4lKcjv12R"
      },
      "execution_count": 45,
      "outputs": []
    },
    {
      "cell_type": "code",
      "source": [
        "# We print percentages:\n",
        "\n",
        "print(\"Percentage of positive tweets: {}%\".format(len(pos_tweets)*100/len(data['Tweets'])))\n",
        "print(\"Percentage of neutral tweets: {}%\".format(len(neu_tweets)*100/len(data['Tweets'])))\n",
        "print(\"Percentage de negative tweets: {}%\".format(len(neg_tweets)*100/len(data['Tweets'])))"
      ],
      "metadata": {
        "colab": {
          "base_uri": "https://localhost:8080/"
        },
        "id": "DnUJi812v5GJ",
        "outputId": "6004a3b8-5021-4cda-f1a8-f909178e8100"
      },
      "execution_count": 46,
      "outputs": [
        {
          "output_type": "stream",
          "name": "stdout",
          "text": [
            "Percentage of positive tweets: 37.17277486910995%\n",
            "Percentage of neutral tweets: 49.738219895287955%\n",
            "Percentage de negative tweets: 13.089005235602095%\n"
          ]
        }
      ]
    },
    {
      "cell_type": "code",
      "source": [],
      "metadata": {
        "id": "jHkTLmwPv9NS"
      },
      "execution_count": null,
      "outputs": []
    }
  ]
}