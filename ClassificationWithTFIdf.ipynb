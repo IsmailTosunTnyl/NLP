{
 "metadata": {
  "language_info": {
   "codemirror_mode": {
    "name": "ipython",
    "version": 3
   },
   "file_extension": ".py",
   "mimetype": "text/x-python",
   "name": "python",
   "nbconvert_exporter": "python",
   "pygments_lexer": "ipython3",
   "version": "3.9.0-final"
  },
  "orig_nbformat": 2,
  "kernelspec": {
   "name": "python3",
   "display_name": "Python 3.9.0 64-bit ('Week4')",
   "metadata": {
    "interpreter": {
     "hash": "3b2b3b0d5dd06ba59f4e2baf4e56ff18b5054e8f42c778fcb47b619b3f1a611b"
    }
   }
  }
 },
 "nbformat": 4,
 "nbformat_minor": 2,
 "cells": [
  {
   "cell_type": "code",
   "execution_count": 5,
   "metadata": {},
   "outputs": [
    {
     "output_type": "stream",
     "name": "stdout",
     "text": [
      "(50425, 2)\n"
     ]
    },
    {
     "output_type": "execute_result",
     "data": {
      "text/plain": [
       "       label                                               text\n",
       "0  Household  Paper Plane Design Framed Wall Hanging Motivat...\n",
       "1  Household  SAF 'Floral' Framed Painting (Wood, 30 inch x ...\n",
       "2  Household  SAF 'UV Textured Modern Art Print Framed' Pain...\n",
       "3  Household  SAF Flower Print Framed Painting (Synthetic, 1...\n",
       "4  Household  Incredible Gifts India Wooden Happy Birthday U..."
      ],
      "text/html": "<div>\n<style scoped>\n    .dataframe tbody tr th:only-of-type {\n        vertical-align: middle;\n    }\n\n    .dataframe tbody tr th {\n        vertical-align: top;\n    }\n\n    .dataframe thead th {\n        text-align: right;\n    }\n</style>\n<table border=\"1\" class=\"dataframe\">\n  <thead>\n    <tr style=\"text-align: right;\">\n      <th></th>\n      <th>label</th>\n      <th>text</th>\n    </tr>\n  </thead>\n  <tbody>\n    <tr>\n      <th>0</th>\n      <td>Household</td>\n      <td>Paper Plane Design Framed Wall Hanging Motivat...</td>\n    </tr>\n    <tr>\n      <th>1</th>\n      <td>Household</td>\n      <td>SAF 'Floral' Framed Painting (Wood, 30 inch x ...</td>\n    </tr>\n    <tr>\n      <th>2</th>\n      <td>Household</td>\n      <td>SAF 'UV Textured Modern Art Print Framed' Pain...</td>\n    </tr>\n    <tr>\n      <th>3</th>\n      <td>Household</td>\n      <td>SAF Flower Print Framed Painting (Synthetic, 1...</td>\n    </tr>\n    <tr>\n      <th>4</th>\n      <td>Household</td>\n      <td>Incredible Gifts India Wooden Happy Birthday U...</td>\n    </tr>\n  </tbody>\n</table>\n</div>"
     },
     "metadata": {},
     "execution_count": 5
    }
   ],
   "source": [
    "import pandas as pd\n",
    "\n",
    "#read the data into a pandas dataframe\n",
    "df = pd.read_csv(\"Ecommerce_data.csv\")#https://www.kaggle.com/datasets/saurabhshahane/ecommerce-text-classification\n",
    "print(df.shape)\n",
    "df.head(5)"
   ]
  },
  {
   "cell_type": "code",
   "execution_count": 6,
   "metadata": {},
   "outputs": [
    {
     "output_type": "execute_result",
     "data": {
      "text/plain": [
       "Household                 19313\n",
       "Books                     11820\n",
       "Electronics               10621\n",
       "Clothing & Accessories     8671\n",
       "Name: label, dtype: int64"
      ]
     },
     "metadata": {},
     "execution_count": 6
    }
   ],
   "source": [
    "#check the distribution of labels \n",
    "df['label'].value_counts()"
   ]
  },
  {
   "cell_type": "code",
   "execution_count": 11,
   "metadata": {},
   "outputs": [
    {
     "output_type": "execute_result",
     "data": {
      "text/plain": [
       "           label                                               text\n",
       "10747  Household  lovelyhome Silicone BPA Free Reusable Ice Cube...\n",
       "13669  Household  Nuestra Combo of Plastic Dough Maker with Chop...\n",
       "10660  Household  Ritu Stainless Steel Electronic Gas Lighter, M...\n",
       "577    Household  Asian Hobby Crafts Satin Ribbon (10 Pieces) Us...\n",
       "19163  Household  Shraddha Collections 2 Compartments Steel Cash..."
      ],
      "text/html": "<div>\n<style scoped>\n    .dataframe tbody tr th:only-of-type {\n        vertical-align: middle;\n    }\n\n    .dataframe tbody tr th {\n        vertical-align: top;\n    }\n\n    .dataframe thead th {\n        text-align: right;\n    }\n</style>\n<table border=\"1\" class=\"dataframe\">\n  <thead>\n    <tr style=\"text-align: right;\">\n      <th></th>\n      <th>label</th>\n      <th>text</th>\n    </tr>\n  </thead>\n  <tbody>\n    <tr>\n      <th>10747</th>\n      <td>Household</td>\n      <td>lovelyhome Silicone BPA Free Reusable Ice Cube...</td>\n    </tr>\n    <tr>\n      <th>13669</th>\n      <td>Household</td>\n      <td>Nuestra Combo of Plastic Dough Maker with Chop...</td>\n    </tr>\n    <tr>\n      <th>10660</th>\n      <td>Household</td>\n      <td>Ritu Stainless Steel Electronic Gas Lighter, M...</td>\n    </tr>\n    <tr>\n      <th>577</th>\n      <td>Household</td>\n      <td>Asian Hobby Crafts Satin Ribbon (10 Pieces) Us...</td>\n    </tr>\n    <tr>\n      <th>19163</th>\n      <td>Household</td>\n      <td>Shraddha Collections 2 Compartments Steel Cash...</td>\n    </tr>\n  </tbody>\n</table>\n</div>"
     },
     "metadata": {},
     "execution_count": 11
    }
   ],
   "source": [
    "dfHouseHold=df[df['label']=='Household'].sample(8671)\n",
    "dfBooks=df[df['label']=='Books'].sample(8671)\n",
    "dfelec=df[df['label']=='Electronics'].sample(8671)\n",
    "dfClot=df[df['label']=='Clothing & Accessories']\n",
    "\n",
    "dfEqual=pd.concat([dfHouseHold,dfBooks,dfelec,dfClot],axis=0)\n",
    "dfEqual.head()"
   ]
  },
  {
   "cell_type": "code",
   "execution_count": 12,
   "metadata": {},
   "outputs": [
    {
     "output_type": "execute_result",
     "data": {
      "text/plain": [
       "Household                 8671\n",
       "Books                     8671\n",
       "Electronics               8671\n",
       "Clothing & Accessories    8671\n",
       "Name: label, dtype: int64"
      ]
     },
     "metadata": {},
     "execution_count": 12
    }
   ],
   "source": [
    "dfEqual['label'].value_counts()"
   ]
  },
  {
   "cell_type": "code",
   "execution_count": 14,
   "metadata": {},
   "outputs": [
    {
     "output_type": "execute_result",
     "data": {
      "text/plain": [
       "           label                                               text  label_num\n",
       "10747  Household  lovelyhome Silicone BPA Free Reusable Ice Cube...          0\n",
       "13669  Household  Nuestra Combo of Plastic Dough Maker with Chop...          0\n",
       "10660  Household  Ritu Stainless Steel Electronic Gas Lighter, M...          0\n",
       "577    Household  Asian Hobby Crafts Satin Ribbon (10 Pieces) Us...          0\n",
       "19163  Household  Shraddha Collections 2 Compartments Steel Cash...          0"
      ],
      "text/html": "<div>\n<style scoped>\n    .dataframe tbody tr th:only-of-type {\n        vertical-align: middle;\n    }\n\n    .dataframe tbody tr th {\n        vertical-align: top;\n    }\n\n    .dataframe thead th {\n        text-align: right;\n    }\n</style>\n<table border=\"1\" class=\"dataframe\">\n  <thead>\n    <tr style=\"text-align: right;\">\n      <th></th>\n      <th>label</th>\n      <th>text</th>\n      <th>label_num</th>\n    </tr>\n  </thead>\n  <tbody>\n    <tr>\n      <th>10747</th>\n      <td>Household</td>\n      <td>lovelyhome Silicone BPA Free Reusable Ice Cube...</td>\n      <td>0</td>\n    </tr>\n    <tr>\n      <th>13669</th>\n      <td>Household</td>\n      <td>Nuestra Combo of Plastic Dough Maker with Chop...</td>\n      <td>0</td>\n    </tr>\n    <tr>\n      <th>10660</th>\n      <td>Household</td>\n      <td>Ritu Stainless Steel Electronic Gas Lighter, M...</td>\n      <td>0</td>\n    </tr>\n    <tr>\n      <th>577</th>\n      <td>Household</td>\n      <td>Asian Hobby Crafts Satin Ribbon (10 Pieces) Us...</td>\n      <td>0</td>\n    </tr>\n    <tr>\n      <th>19163</th>\n      <td>Household</td>\n      <td>Shraddha Collections 2 Compartments Steel Cash...</td>\n      <td>0</td>\n    </tr>\n  </tbody>\n</table>\n</div>"
     },
     "metadata": {},
     "execution_count": 14
    }
   ],
   "source": [
    "dfEqual['label_num'] = dfEqual['label'].map({\n",
    "    'Household' : 0, \n",
    "    'Books': 1, \n",
    "    'Electronics': 2, \n",
    "    'Clothing & Accessories': 3\n",
    "})\n",
    "\n",
    "#checking the results \n",
    "dfEqual.head(5)"
   ]
  },
  {
   "cell_type": "code",
   "execution_count": 33,
   "metadata": {},
   "outputs": [
    {
     "output_type": "stream",
     "name": "stdout",
     "text": [
      "<class 'pandas.core.frame.DataFrame'>\nInt64Index: 34684 entries, 10747 to 39803\nData columns (total 3 columns):\n #   Column     Non-Null Count  Dtype \n---  ------     --------------  ----- \n 0   label      34684 non-null  object\n 1   text       34684 non-null  object\n 2   label_num  34684 non-null  int64 \ndtypes: int64(1), object(2)\nmemory usage: 1.1+ MB\n"
     ]
    }
   ],
   "source": [
    "dfEqual.info()"
   ]
  },
  {
   "cell_type": "code",
   "execution_count": 32,
   "metadata": {},
   "outputs": [],
   "source": [
    "dfEqual.text = dfEqual.text.fillna('')"
   ]
  },
  {
   "cell_type": "code",
   "execution_count": 34,
   "metadata": {},
   "outputs": [],
   "source": [
    "from sklearn.model_selection import train_test_split\n",
    "\n",
    "X_train, X_test, y_train, y_test = train_test_split(\n",
    "    dfEqual.text, \n",
    "    dfEqual.label_num, \n",
    "    test_size=0.2, # 20% samples will go to test dataset\n",
    "    random_state=2022,\n",
    "    stratify=dfEqual.label_num\n",
    ")"
   ]
  },
  {
   "cell_type": "code",
   "execution_count": 35,
   "metadata": {},
   "outputs": [
    {
     "output_type": "stream",
     "name": "stdout",
     "text": [
      "Shape of X_train:  (27747,)\nShape of X_test:  (6937,)\n"
     ]
    }
   ],
   "source": [
    "print(\"Shape of X_train: \", X_train.shape)\n",
    "print(\"Shape of X_test: \", X_test.shape)"
   ]
  },
  {
   "cell_type": "code",
   "execution_count": 36,
   "metadata": {},
   "outputs": [
    {
     "output_type": "execute_result",
     "data": {
      "text/plain": [
       "12792    Singer Tradition FM 2250 Sewing Machine (White...\n",
       "13761    Crock-Pot SCCPVL600-R Cook N Carry 6-Quart Ova...\n",
       "21936    CA FOUNDATION SOLVED SCANNER PAPER 1 TO 4 GREE...\n",
       "36726    Sona Women's Cross Chiken Everyday Plus Size F...\n",
       "34569    Lux Cottswool Men's Cotton Thermal Set Cope wi...\n",
       "Name: text, dtype: object"
      ]
     },
     "metadata": {},
     "execution_count": 36
    }
   ],
   "source": [
    "X_train.head()"
   ]
  },
  {
   "cell_type": "code",
   "execution_count": 37,
   "metadata": {},
   "outputs": [
    {
     "output_type": "execute_result",
     "data": {
      "text/plain": [
       "0    6937\n",
       "3    6937\n",
       "2    6937\n",
       "1    6936\n",
       "Name: label_num, dtype: int64"
      ]
     },
     "metadata": {},
     "execution_count": 37
    }
   ],
   "source": [
    "y_train.value_counts()"
   ]
  },
  {
   "cell_type": "code",
   "execution_count": 38,
   "metadata": {},
   "outputs": [
    {
     "output_type": "execute_result",
     "data": {
      "text/plain": [
       "1    1735\n",
       "0    1734\n",
       "2    1734\n",
       "3    1734\n",
       "Name: label_num, dtype: int64"
      ]
     },
     "metadata": {},
     "execution_count": 38
    }
   ],
   "source": [
    "y_test.value_counts()"
   ]
  },
  {
   "cell_type": "code",
   "execution_count": 39,
   "metadata": {},
   "outputs": [
    {
     "output_type": "stream",
     "name": "stdout",
     "text": [
      "              precision    recall  f1-score   support\n\n           0       0.93      0.95      0.94      1734\n           1       0.96      0.95      0.95      1735\n           2       0.97      0.93      0.95      1734\n           3       0.95      0.98      0.97      1734\n\n    accuracy                           0.95      6937\n   macro avg       0.95      0.95      0.95      6937\nweighted avg       0.95      0.95      0.95      6937\n\n"
     ]
    }
   ],
   "source": [
    "from sklearn.neighbors import KNeighborsClassifier\n",
    "from sklearn.pipeline import Pipeline\n",
    "from sklearn.metrics import classification_report\n",
    "from sklearn.feature_extraction.text import TfidfVectorizer\n",
    "\n",
    "#1. create a pipeline object\n",
    "clf = Pipeline([\n",
    "     ('vectorizer_tfidf',TfidfVectorizer()),    \n",
    "     ('KNN', KNeighborsClassifier())         \n",
    "])\n",
    "\n",
    "#2. fit with X_train and y_train\n",
    "clf.fit(X_train, y_train)\n",
    "\n",
    "\n",
    "#3. get the predictions for X_test and store it in y_pred\n",
    "y_pred = clf.predict(X_test)\n",
    "\n",
    "\n",
    "#4. print the classfication report\n",
    "print(classification_report(y_test, y_pred))"
   ]
  },
  {
   "cell_type": "code",
   "execution_count": 40,
   "metadata": {},
   "outputs": [
    {
     "output_type": "stream",
     "name": "stderr",
     "text": [
      "/var/folders/vw/nw7bssr53clby0zyfm6r1_yc0000gn/T/ipykernel_99389/2325576690.py:1: FutureWarning: The behavior of `series[i:j]` with an integer-dtype index is deprecated. In a future version, this will be treated as *label-based* indexing, consistent with e.g. `series[i]` lookups. To retain the old behavior, use `series.iloc[i:j]`. To get the future behavior, use `series.loc[i:j]`.\n  X_test[:5]\n"
     ]
    },
    {
     "output_type": "execute_result",
     "data": {
      "text/plain": [
       "26156    Business Communication: Connecting at Work (wi...\n",
       "11441    Bella Vita Organic EyeLift Under Eyes Cream Ge...\n",
       "42496    Cosmic Byte Storm M001 Wireless Gaming Mouse (...\n",
       "46128    US1984 360° Adjustable 50-Inch Tripod Smartpho...\n",
       "11295    Flair plan Scrapper 3 Inch, Stainless Steel, S...\n",
       "Name: text, dtype: object"
      ]
     },
     "metadata": {},
     "execution_count": 40
    }
   ],
   "source": [
    "X_test[:5]"
   ]
  },
  {
   "cell_type": "code",
   "execution_count": 41,
   "metadata": {},
   "outputs": [
    {
     "output_type": "stream",
     "name": "stderr",
     "text": [
      "/var/folders/vw/nw7bssr53clby0zyfm6r1_yc0000gn/T/ipykernel_99389/1754177261.py:1: FutureWarning: The behavior of `series[i:j]` with an integer-dtype index is deprecated. In a future version, this will be treated as *label-based* indexing, consistent with e.g. `series[i]` lookups. To retain the old behavior, use `series.iloc[i:j]`. To get the future behavior, use `series.loc[i:j]`.\n  y_test[:5]\n"
     ]
    },
    {
     "output_type": "execute_result",
     "data": {
      "text/plain": [
       "26156    1\n",
       "11441    0\n",
       "42496    2\n",
       "46128    2\n",
       "11295    0\n",
       "Name: label_num, dtype: int64"
      ]
     },
     "metadata": {},
     "execution_count": 41
    }
   ],
   "source": [
    "y_test[:5]"
   ]
  },
  {
   "cell_type": "code",
   "execution_count": 42,
   "metadata": {},
   "outputs": [
    {
     "output_type": "execute_result",
     "data": {
      "text/plain": [
       "array([1, 0, 2, 2, 0])"
      ]
     },
     "metadata": {},
     "execution_count": 42
    }
   ],
   "source": [
    "y_pred[:5]"
   ]
  },
  {
   "cell_type": "code",
   "execution_count": 43,
   "metadata": {},
   "outputs": [
    {
     "output_type": "stream",
     "name": "stdout",
     "text": [
      "              precision    recall  f1-score   support\n\n           0       0.91      0.94      0.93      1734\n           1       0.97      0.93      0.95      1735\n           2       0.95      0.95      0.95      1734\n           3       0.96      0.97      0.97      1734\n\n    accuracy                           0.95      6937\n   macro avg       0.95      0.95      0.95      6937\nweighted avg       0.95      0.95      0.95      6937\n\n"
     ]
    }
   ],
   "source": [
    "from sklearn.naive_bayes import MultinomialNB\n",
    "\n",
    "\n",
    "#1. create a pipeline object\n",
    "clf = Pipeline([\n",
    "     ('vectorizer_tfidf',TfidfVectorizer()),    \n",
    "     ('Multi NB', MultinomialNB())         \n",
    "])\n",
    "\n",
    "#2. fit with X_train and y_train\n",
    "clf.fit(X_train, y_train)\n",
    "\n",
    "\n",
    "#3. get the predictions for X_test and store it in y_pred\n",
    "y_pred = clf.predict(X_test)\n",
    "\n",
    "\n",
    "#4. print the classfication report\n",
    "print(classification_report(y_test, y_pred))"
   ]
  },
  {
   "cell_type": "code",
   "execution_count": 44,
   "metadata": {},
   "outputs": [
    {
     "output_type": "stream",
     "name": "stdout",
     "text": [
      "              precision    recall  f1-score   support\n\n           0       0.92      0.95      0.93      1734\n           1       0.97      0.96      0.96      1735\n           2       0.97      0.94      0.96      1734\n           3       0.96      0.98      0.97      1734\n\n    accuracy                           0.96      6937\n   macro avg       0.96      0.96      0.96      6937\nweighted avg       0.96      0.96      0.96      6937\n\n"
     ]
    }
   ],
   "source": [
    "from sklearn.ensemble import RandomForestClassifier\n",
    "\n",
    "#1. create a pipeline object\n",
    "clf = Pipeline([\n",
    "     ('vectorizer_tfidf',TfidfVectorizer()),        #using the ngram_range parameter \n",
    "     ('Random Forest', RandomForestClassifier())         \n",
    "])\n",
    "\n",
    "#2. fit with X_train and y_train\n",
    "clf.fit(X_train, y_train)\n",
    "\n",
    "\n",
    "#3. get the predictions for X_test and store it in y_pred\n",
    "y_pred = clf.predict(X_test)\n",
    "\n",
    "\n",
    "#4. print the classfication report\n",
    "print(classification_report(y_test, y_pred))"
   ]
  },
  {
   "cell_type": "code",
   "execution_count": 46,
   "metadata": {},
   "outputs": [
    {
     "output_type": "stream",
     "name": "stdout",
     "text": [
      "\u001b[38;5;3m⚠ As of spaCy v3.0, shortcuts like 'en' are deprecated. Please use the\n",
      "full pipeline package name 'en_core_web_sm' instead.\u001b[0m\n",
      "Collecting en-core-web-sm==3.4.1\n",
      "  Downloading https://github.com/explosion/spacy-models/releases/download/en_core_web_sm-3.4.1/en_core_web_sm-3.4.1-py3-none-any.whl (12.8 MB)\n",
      "     |████████████████████████████████| 12.8 MB 2.3 MB/s            \n",
      "\u001b[?25hRequirement already satisfied: spacy<3.5.0,>=3.4.0 in ./Week4/lib/python3.9/site-packages (from en-core-web-sm==3.4.1) (3.4.1)\n",
      "Requirement already satisfied: typer<0.5.0,>=0.3.0 in ./Week4/lib/python3.9/site-packages (from spacy<3.5.0,>=3.4.0->en-core-web-sm==3.4.1) (0.4.2)\n",
      "Requirement already satisfied: tqdm<5.0.0,>=4.38.0 in ./Week4/lib/python3.9/site-packages (from spacy<3.5.0,>=3.4.0->en-core-web-sm==3.4.1) (4.64.1)\n",
      "Requirement already satisfied: setuptools in ./Week4/lib/python3.9/site-packages (from spacy<3.5.0,>=3.4.0->en-core-web-sm==3.4.1) (60.5.0)\n",
      "Requirement already satisfied: pydantic!=1.8,!=1.8.1,<1.10.0,>=1.7.4 in ./Week4/lib/python3.9/site-packages (from spacy<3.5.0,>=3.4.0->en-core-web-sm==3.4.1) (1.9.2)\n",
      "Requirement already satisfied: requests<3.0.0,>=2.13.0 in ./Week4/lib/python3.9/site-packages (from spacy<3.5.0,>=3.4.0->en-core-web-sm==3.4.1) (2.28.1)\n",
      "Requirement already satisfied: srsly<3.0.0,>=2.4.3 in ./Week4/lib/python3.9/site-packages (from spacy<3.5.0,>=3.4.0->en-core-web-sm==3.4.1) (2.4.4)\n",
      "Requirement already satisfied: jinja2 in ./Week4/lib/python3.9/site-packages (from spacy<3.5.0,>=3.4.0->en-core-web-sm==3.4.1) (3.1.2)\n",
      "Requirement already satisfied: langcodes<4.0.0,>=3.2.0 in ./Week4/lib/python3.9/site-packages (from spacy<3.5.0,>=3.4.0->en-core-web-sm==3.4.1) (3.3.0)\n",
      "Requirement already satisfied: spacy-legacy<3.1.0,>=3.0.9 in ./Week4/lib/python3.9/site-packages (from spacy<3.5.0,>=3.4.0->en-core-web-sm==3.4.1) (3.0.10)\n",
      "Requirement already satisfied: pathy>=0.3.5 in ./Week4/lib/python3.9/site-packages (from spacy<3.5.0,>=3.4.0->en-core-web-sm==3.4.1) (0.6.2)\n",
      "Requirement already satisfied: packaging>=20.0 in ./Week4/lib/python3.9/site-packages (from spacy<3.5.0,>=3.4.0->en-core-web-sm==3.4.1) (21.3)\n",
      "Requirement already satisfied: wasabi<1.1.0,>=0.9.1 in ./Week4/lib/python3.9/site-packages (from spacy<3.5.0,>=3.4.0->en-core-web-sm==3.4.1) (0.10.1)\n",
      "Requirement already satisfied: preshed<3.1.0,>=3.0.2 in ./Week4/lib/python3.9/site-packages (from spacy<3.5.0,>=3.4.0->en-core-web-sm==3.4.1) (3.0.8)\n",
      "Requirement already satisfied: catalogue<2.1.0,>=2.0.6 in ./Week4/lib/python3.9/site-packages (from spacy<3.5.0,>=3.4.0->en-core-web-sm==3.4.1) (2.0.8)\n",
      "Requirement already satisfied: numpy>=1.15.0 in ./Week4/lib/python3.9/site-packages (from spacy<3.5.0,>=3.4.0->en-core-web-sm==3.4.1) (1.23.4)\n",
      "Requirement already satisfied: murmurhash<1.1.0,>=0.28.0 in ./Week4/lib/python3.9/site-packages (from spacy<3.5.0,>=3.4.0->en-core-web-sm==3.4.1) (1.0.9)\n",
      "Requirement already satisfied: spacy-loggers<2.0.0,>=1.0.0 in ./Week4/lib/python3.9/site-packages (from spacy<3.5.0,>=3.4.0->en-core-web-sm==3.4.1) (1.0.3)\n",
      "Requirement already satisfied: cymem<2.1.0,>=2.0.2 in ./Week4/lib/python3.9/site-packages (from spacy<3.5.0,>=3.4.0->en-core-web-sm==3.4.1) (2.0.7)\n",
      "Requirement already satisfied: thinc<8.2.0,>=8.1.0 in ./Week4/lib/python3.9/site-packages (from spacy<3.5.0,>=3.4.0->en-core-web-sm==3.4.1) (8.1.4)\n",
      "Requirement already satisfied: pyparsing!=3.0.5,>=2.0.2 in ./Week4/lib/python3.9/site-packages (from packaging>=20.0->spacy<3.5.0,>=3.4.0->en-core-web-sm==3.4.1) (3.0.9)\n",
      "Requirement already satisfied: smart-open<6.0.0,>=5.2.1 in ./Week4/lib/python3.9/site-packages (from pathy>=0.3.5->spacy<3.5.0,>=3.4.0->en-core-web-sm==3.4.1) (5.2.1)\n",
      "Requirement already satisfied: typing-extensions>=3.7.4.3 in ./Week4/lib/python3.9/site-packages (from pydantic!=1.8,!=1.8.1,<1.10.0,>=1.7.4->spacy<3.5.0,>=3.4.0->en-core-web-sm==3.4.1) (4.4.0)\n",
      "Requirement already satisfied: idna<4,>=2.5 in ./Week4/lib/python3.9/site-packages (from requests<3.0.0,>=2.13.0->spacy<3.5.0,>=3.4.0->en-core-web-sm==3.4.1) (3.4)\n",
      "Requirement already satisfied: certifi>=2017.4.17 in ./Week4/lib/python3.9/site-packages (from requests<3.0.0,>=2.13.0->spacy<3.5.0,>=3.4.0->en-core-web-sm==3.4.1) (2022.9.24)\n",
      "Requirement already satisfied: charset-normalizer<3,>=2 in ./Week4/lib/python3.9/site-packages (from requests<3.0.0,>=2.13.0->spacy<3.5.0,>=3.4.0->en-core-web-sm==3.4.1) (2.1.1)\n",
      "Requirement already satisfied: urllib3<1.27,>=1.21.1 in ./Week4/lib/python3.9/site-packages (from requests<3.0.0,>=2.13.0->spacy<3.5.0,>=3.4.0->en-core-web-sm==3.4.1) (1.26.12)\n",
      "Requirement already satisfied: blis<0.8.0,>=0.7.8 in ./Week4/lib/python3.9/site-packages (from thinc<8.2.0,>=8.1.0->spacy<3.5.0,>=3.4.0->en-core-web-sm==3.4.1) (0.7.9)\n",
      "Requirement already satisfied: confection<1.0.0,>=0.0.1 in ./Week4/lib/python3.9/site-packages (from thinc<8.2.0,>=8.1.0->spacy<3.5.0,>=3.4.0->en-core-web-sm==3.4.1) (0.0.3)\n",
      "Requirement already satisfied: click<9.0.0,>=7.1.1 in ./Week4/lib/python3.9/site-packages (from typer<0.5.0,>=0.3.0->spacy<3.5.0,>=3.4.0->en-core-web-sm==3.4.1) (8.1.3)\n",
      "Requirement already satisfied: MarkupSafe>=2.0 in ./Week4/lib/python3.9/site-packages (from jinja2->spacy<3.5.0,>=3.4.0->en-core-web-sm==3.4.1) (2.1.1)\n",
      "Installing collected packages: en-core-web-sm\n",
      "Successfully installed en-core-web-sm-3.4.1\n",
      "\u001b[33mWARNING: You are using pip version 21.3.1; however, version 22.3 is available.\n",
      "You should consider upgrading via the '/Users/volkan/Desktop/NLP/Week4/Week4/bin/python -m pip install --upgrade pip' command.\u001b[0m\n",
      "\u001b[38;5;2m✔ Download and installation successful\u001b[0m\n",
      "You can now load the package via spacy.load('en_core_web_sm')\n"
     ]
    }
   ],
   "source": [
    "!python -m spacy download en"
   ]
  },
  {
   "cell_type": "code",
   "execution_count": 47,
   "metadata": {},
   "outputs": [],
   "source": [
    "### utlity function for pre-processing the text\n",
    "import spacy\n",
    "\n",
    "# load english language model and create nlp object from it\n",
    "nlp = spacy.load(\"en_core_web_sm\") \n",
    "\n",
    "def preprocess(text):\n",
    "    # remove stop words and lemmatize the text\n",
    "    doc = nlp(text)\n",
    "    filtered_tokens = []\n",
    "    for token in doc:\n",
    "        if token.is_stop or token.is_punct:\n",
    "            continue\n",
    "        filtered_tokens.append(token.lemma_)\n",
    "    \n",
    "    return \" \".join(filtered_tokens) "
   ]
  },
  {
   "cell_type": "code",
   "execution_count": 48,
   "metadata": {},
   "outputs": [],
   "source": [
    "dfEqual['preprocessed_txt'] = dfEqual['text'].apply(preprocess) "
   ]
  },
  {
   "cell_type": "code",
   "execution_count": 49,
   "metadata": {},
   "outputs": [
    {
     "output_type": "execute_result",
     "data": {
      "text/plain": [
       "           label                                               text  \\\n",
       "10747  Household  lovelyhome Silicone BPA Free Reusable Ice Cube...   \n",
       "13669  Household  Nuestra Combo of Plastic Dough Maker with Chop...   \n",
       "10660  Household  Ritu Stainless Steel Electronic Gas Lighter, M...   \n",
       "577    Household  Asian Hobby Crafts Satin Ribbon (10 Pieces) Us...   \n",
       "19163  Household  Shraddha Collections 2 Compartments Steel Cash...   \n",
       "\n",
       "       label_num                                   preprocessed_txt  \n",
       "10747          0  lovelyhome silicone bpa Free Reusable Ice Cube...  \n",
       "13669          0  Nuestra Combo Plastic Dough Maker Chopper Atta...  \n",
       "10660          0  Ritu Stainless Steel Electronic Gas Lighter Mu...  \n",
       "577            0  Asian Hobby Crafts Satin Ribbon 10 Pieces use ...  \n",
       "19163          0  Shraddha Collections 2 Compartments Steel Cash...  "
      ],
      "text/html": "<div>\n<style scoped>\n    .dataframe tbody tr th:only-of-type {\n        vertical-align: middle;\n    }\n\n    .dataframe tbody tr th {\n        vertical-align: top;\n    }\n\n    .dataframe thead th {\n        text-align: right;\n    }\n</style>\n<table border=\"1\" class=\"dataframe\">\n  <thead>\n    <tr style=\"text-align: right;\">\n      <th></th>\n      <th>label</th>\n      <th>text</th>\n      <th>label_num</th>\n      <th>preprocessed_txt</th>\n    </tr>\n  </thead>\n  <tbody>\n    <tr>\n      <th>10747</th>\n      <td>Household</td>\n      <td>lovelyhome Silicone BPA Free Reusable Ice Cube...</td>\n      <td>0</td>\n      <td>lovelyhome silicone bpa Free Reusable Ice Cube...</td>\n    </tr>\n    <tr>\n      <th>13669</th>\n      <td>Household</td>\n      <td>Nuestra Combo of Plastic Dough Maker with Chop...</td>\n      <td>0</td>\n      <td>Nuestra Combo Plastic Dough Maker Chopper Atta...</td>\n    </tr>\n    <tr>\n      <th>10660</th>\n      <td>Household</td>\n      <td>Ritu Stainless Steel Electronic Gas Lighter, M...</td>\n      <td>0</td>\n      <td>Ritu Stainless Steel Electronic Gas Lighter Mu...</td>\n    </tr>\n    <tr>\n      <th>577</th>\n      <td>Household</td>\n      <td>Asian Hobby Crafts Satin Ribbon (10 Pieces) Us...</td>\n      <td>0</td>\n      <td>Asian Hobby Crafts Satin Ribbon 10 Pieces use ...</td>\n    </tr>\n    <tr>\n      <th>19163</th>\n      <td>Household</td>\n      <td>Shraddha Collections 2 Compartments Steel Cash...</td>\n      <td>0</td>\n      <td>Shraddha Collections 2 Compartments Steel Cash...</td>\n    </tr>\n  </tbody>\n</table>\n</div>"
     },
     "metadata": {},
     "execution_count": 49
    }
   ],
   "source": [
    "dfEqual.head()"
   ]
  },
  {
   "cell_type": "code",
   "execution_count": 50,
   "metadata": {},
   "outputs": [
    {
     "output_type": "execute_result",
     "data": {
      "text/plain": [
       "'Paper Plane Design Framed Wall Hanging Motivational Office Decor Art Prints (8.7 X 8.7 inch) - Set of 4 Painting made up in synthetic frame with uv textured print which gives multi effects and attracts towards it. This is an special series of paintings which makes your wall very beautiful and gives a royal touch. This painting is ready to hang, you would be proud to possess this unique painting that is a niche apart. We use only the most modern and efficient printing technology on our prints, with only the and inks and precision epson, roland and hp printers. This innovative hd printing technique results in durable and spectacular looking prints of the highest that last a lifetime. We print solely with top-notch 100% inks, to achieve brilliant and true colours. Due to their high level of uv resistance, our prints retain their beautiful colours for many years. Add colour and style to your living space with this digitally printed painting. Some are for pleasure and some for eternal bliss.so bring home this elegant print that is lushed with rich colors that makes it nothing but sheer elegance to be to your friends and family.it would be treasured forever by whoever your lucky recipient is. Liven up your place with these intriguing paintings that are high definition hd graphic digital prints for home, office or any room.'"
      ]
     },
     "metadata": {},
     "execution_count": 50
    }
   ],
   "source": [
    "dfEqual.text[0]"
   ]
  },
  {
   "cell_type": "code",
   "execution_count": 51,
   "metadata": {},
   "outputs": [
    {
     "output_type": "execute_result",
     "data": {
      "text/plain": [
       "'paper Plane Design Framed Wall Hanging Motivational Office Decor Art Prints 8.7 x 8.7 inch Set 4 painting synthetic frame uv textured print give multi effect attract special series painting make wall beautiful give royal touch painting ready hang proud possess unique painting niche apart use modern efficient printing technology print ink precision epson roland hp printer innovative hd printing technique result durable spectacular look print high lifetime print solely notch 100 ink achieve brilliant true colour high level uv resistance print retain beautiful colour year add colour style live space digitally print painting pleasure eternal bliss.so bring home elegant print lushe rich color make sheer elegance friend family.it treasure forever lucky recipient liven place intriguing painting high definition hd graphic digital print home office room'"
      ]
     },
     "metadata": {},
     "execution_count": 51
    }
   ],
   "source": [
    "dfEqual.preprocessed_txt[0]"
   ]
  },
  {
   "cell_type": "code",
   "execution_count": 53,
   "metadata": {},
   "outputs": [],
   "source": [
    "X_train, X_test, y_train, y_test = train_test_split(\n",
    "    dfEqual.preprocessed_txt, \n",
    "    dfEqual.label_num,\n",
    "    test_size=0.2, # 20% samples will go to test dataset\n",
    "    random_state=2022,\n",
    "    stratify=dfEqual.label_num\n",
    ")"
   ]
  },
  {
   "cell_type": "code",
   "execution_count": 54,
   "metadata": {},
   "outputs": [
    {
     "output_type": "stream",
     "name": "stdout",
     "text": [
      "              precision    recall  f1-score   support\n\n           0       0.92      0.95      0.94      1734\n           1       0.97      0.96      0.96      1735\n           2       0.97      0.94      0.96      1734\n           3       0.97      0.98      0.98      1734\n\n    accuracy                           0.96      6937\n   macro avg       0.96      0.96      0.96      6937\nweighted avg       0.96      0.96      0.96      6937\n\n"
     ]
    }
   ],
   "source": [
    "#1. create a pipeline object\n",
    "clf = Pipeline([\n",
    "     ('vectorizer_tfidf',TfidfVectorizer()),        #using the ngram_range parameter \n",
    "     ('Random Forest', RandomForestClassifier())         \n",
    "])\n",
    "\n",
    "#2. fit with X_train and y_train\n",
    "clf.fit(X_train, y_train)\n",
    "\n",
    "\n",
    "#3. get the predictions for X_test and store it in y_pred\n",
    "y_pred = clf.predict(X_test)\n",
    "\n",
    "\n",
    "#4. print the classfication report\n",
    "print(classification_report(y_test, y_pred))"
   ]
  },
  {
   "cell_type": "code",
   "execution_count": null,
   "metadata": {},
   "outputs": [],
   "source": []
  }
 ]
}
